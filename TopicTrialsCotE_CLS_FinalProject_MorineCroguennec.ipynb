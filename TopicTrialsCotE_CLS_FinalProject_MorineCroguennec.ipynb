{
 "cells": [
  {
   "cell_type": "markdown",
   "id": "60a98f25",
   "metadata": {},
   "source": [
    "# <center>Computational Literary Science: Exam Project<center> <center>Classroom of the Elite: A Data-Driven Content Analysis<center>"
   ]
  },
  {
   "cell_type": "markdown",
   "id": "a0a42275",
   "metadata": {},
   "source": [
    "## CotE Data"
   ]
  },
  {
   "cell_type": "code",
   "execution_count": 1,
   "id": "60e5d4e3",
   "metadata": {},
   "outputs": [
    {
     "name": "stdout",
     "output_type": "stream",
     "text": [
      "Python version:\n",
      "3.9.12 (main, Apr  4 2022, 05:22:27) [MSC v.1916 64 bit (AMD64)]\n",
      "\n",
      " Version info:\n",
      "sys.version_info(major=3, minor=9, micro=12, releaselevel='final', serial=0)\n"
     ]
    }
   ],
   "source": [
    "import sys\n",
    "print(\"Python version:\")\n",
    "print (sys.version)\n",
    "\n",
    "print(\"\\n Version info:\")\n",
    "print (sys.version_info)"
   ]
  },
  {
   "cell_type": "code",
   "execution_count": 2,
   "id": "eec30b43",
   "metadata": {},
   "outputs": [
    {
     "name": "stdout",
     "output_type": "stream",
     "text": [
      "1.4.2\n",
      "1.21.5\n",
      "1.0.2\n",
      "3.7\n"
     ]
    }
   ],
   "source": [
    "#Imports\n",
    "\n",
    "import random\n",
    "import glob\n",
    "import shutil\n",
    "\n",
    "import pandas as pd\n",
    "print(pd.__version__)\n",
    "\n",
    "import numpy as np\n",
    "print(np.__version__)\n",
    "\n",
    "import matplotlib.pyplot as plt\n",
    "%matplotlib inline\n",
    "plt.style.use('seaborn-deep')\n",
    "\n",
    "import sklearn \n",
    "print(sklearn.__version__)\n",
    "\n",
    "import nltk\n",
    "print(nltk.__version__)\n",
    "\n",
    "from collections import Counter\n",
    "from sklearn.feature_extraction.text import CountVectorizer\n",
    "\n",
    "import os\n",
    "\n",
    "RND = 22\n",
    "np.random.seed(RND)\n",
    "random.seed(RND)"
   ]
  },
  {
   "cell_type": "code",
   "execution_count": 3,
   "id": "b3f96cec",
   "metadata": {},
   "outputs": [],
   "source": [
    "data_path_CotE = \"C:/Users/morin/OneDrive/Documents/School/CLS-Classroom_of_the_Elite/Presentation/CotE_DatasetNaN.txt\""
   ]
  },
  {
   "cell_type": "code",
   "execution_count": 4,
   "id": "0f583ec1",
   "metadata": {},
   "outputs": [],
   "source": [
    "df = pd.read_csv(data_path_CotE, sep = \"\\t\", encoding = \"UTF-8\")"
   ]
  },
  {
   "cell_type": "code",
   "execution_count": 5,
   "id": "d1d17622",
   "metadata": {},
   "outputs": [
    {
     "data": {
      "text/html": [
       "<div>\n",
       "<style scoped>\n",
       "    .dataframe tbody tr th:only-of-type {\n",
       "        vertical-align: middle;\n",
       "    }\n",
       "\n",
       "    .dataframe tbody tr th {\n",
       "        vertical-align: top;\n",
       "    }\n",
       "\n",
       "    .dataframe thead th {\n",
       "        text-align: right;\n",
       "    }\n",
       "</style>\n",
       "<table border=\"1\" class=\"dataframe\">\n",
       "  <thead>\n",
       "    <tr style=\"text-align: right;\">\n",
       "      <th></th>\n",
       "      <th>ID</th>\n",
       "      <th>Volume</th>\n",
       "      <th>Volume_Type</th>\n",
       "      <th>Chapter_Type</th>\n",
       "      <th>Chapter_Num</th>\n",
       "      <th>PublishingDate_Original</th>\n",
       "      <th>Title</th>\n",
       "      <th>Text</th>\n",
       "      <th>Translator</th>\n",
       "      <th>Editor</th>\n",
       "      <th>Proofreader</th>\n",
       "      <th>Trimester</th>\n",
       "    </tr>\n",
       "  </thead>\n",
       "  <tbody>\n",
       "    <tr>\n",
       "      <th>0</th>\n",
       "      <td>1_P</td>\n",
       "      <td>1.0</td>\n",
       "      <td>Main</td>\n",
       "      <td>Prologue</td>\n",
       "      <td>0.0</td>\n",
       "      <td>2015-05-25</td>\n",
       "      <td>The structure of Japanese society</td>\n",
       "      <td>It s a bit sudden, but listen seriously to ...</td>\n",
       "      <td>qbomb</td>\n",
       "      <td>NaN</td>\n",
       "      <td>NaN</td>\n",
       "      <td>1</td>\n",
       "    </tr>\n",
       "    <tr>\n",
       "      <th>1</th>\n",
       "      <td>1_1</td>\n",
       "      <td>1.0</td>\n",
       "      <td>Main</td>\n",
       "      <td>Chapter</td>\n",
       "      <td>1.0</td>\n",
       "      <td>2015-05-25</td>\n",
       "      <td>Welcome to my dream-like school life</td>\n",
       "      <td>Ayanokouji-kun, are you ok?    It came. It...</td>\n",
       "      <td>qbomb</td>\n",
       "      <td>NaN</td>\n",
       "      <td>NaN</td>\n",
       "      <td>1</td>\n",
       "    </tr>\n",
       "    <tr>\n",
       "      <th>2</th>\n",
       "      <td>1_2</td>\n",
       "      <td>1.0</td>\n",
       "      <td>Main</td>\n",
       "      <td>Chapter</td>\n",
       "      <td>2.0</td>\n",
       "      <td>2015-05-25</td>\n",
       "      <td>The students of class D</td>\n",
       "      <td>On the second day of school, even though it...</td>\n",
       "      <td>qbomb</td>\n",
       "      <td>NaN</td>\n",
       "      <td>NaN</td>\n",
       "      <td>1</td>\n",
       "    </tr>\n",
       "    <tr>\n",
       "      <th>3</th>\n",
       "      <td>1_3</td>\n",
       "      <td>1.0</td>\n",
       "      <td>Main</td>\n",
       "      <td>Chapter</td>\n",
       "      <td>3.0</td>\n",
       "      <td>2015-05-25</td>\n",
       "      <td>Ladies and gentlemen, thanks for waiting!</td>\n",
       "      <td>Good morning Yamauchi!   Good morning Ike!  Wh...</td>\n",
       "      <td>qbomb</td>\n",
       "      <td>NaN</td>\n",
       "      <td>NaN</td>\n",
       "      <td>1</td>\n",
       "    </tr>\n",
       "    <tr>\n",
       "      <th>4</th>\n",
       "      <td>1_4</td>\n",
       "      <td>1.0</td>\n",
       "      <td>Main</td>\n",
       "      <td>Chapter</td>\n",
       "      <td>4.0</td>\n",
       "      <td>2015-05-25</td>\n",
       "      <td>Friend</td>\n",
       "      <td>Kikyou-chan, do you want to stop by a cafe...</td>\n",
       "      <td>qbomb</td>\n",
       "      <td>NaN</td>\n",
       "      <td>NaN</td>\n",
       "      <td>1</td>\n",
       "    </tr>\n",
       "  </tbody>\n",
       "</table>\n",
       "</div>"
      ],
      "text/plain": [
       "    ID  Volume Volume_Type Chapter_Type  Chapter_Num PublishingDate_Original  \\\n",
       "0  1_P     1.0        Main     Prologue          0.0              2015-05-25   \n",
       "1  1_1     1.0        Main      Chapter          1.0              2015-05-25   \n",
       "2  1_2     1.0        Main      Chapter          2.0              2015-05-25   \n",
       "3  1_3     1.0        Main      Chapter          3.0              2015-05-25   \n",
       "4  1_4     1.0        Main      Chapter          4.0              2015-05-25   \n",
       "\n",
       "                                        Title  \\\n",
       "0        The structure of Japanese society      \n",
       "1     Welcome to my dream-like school life      \n",
       "2                  The students of class D      \n",
       "3   Ladies and gentlemen, thanks for waiting!   \n",
       "4                                   Friend      \n",
       "\n",
       "                                                Text Translator Editor  \\\n",
       "0     It s a bit sudden, but listen seriously to ...      qbomb    NaN   \n",
       "1      Ayanokouji-kun, are you ok?    It came. It...      qbomb    NaN   \n",
       "2     On the second day of school, even though it...      qbomb    NaN   \n",
       "3  Good morning Yamauchi!   Good morning Ike!  Wh...      qbomb    NaN   \n",
       "4      Kikyou-chan, do you want to stop by a cafe...      qbomb    NaN   \n",
       "\n",
       "  Proofreader Trimester  \n",
       "0         NaN         1  \n",
       "1         NaN         1  \n",
       "2         NaN         1  \n",
       "3         NaN         1  \n",
       "4         NaN         1  "
      ]
     },
     "execution_count": 5,
     "metadata": {},
     "output_type": "execute_result"
    }
   ],
   "source": [
    "df.head()"
   ]
  },
  {
   "cell_type": "markdown",
   "id": "bd87e4fc",
   "metadata": {},
   "source": [
    "## PreProcessing"
   ]
  },
  {
   "cell_type": "code",
   "execution_count": 6,
   "id": "7e93f624",
   "metadata": {},
   "outputs": [
    {
     "name": "stderr",
     "output_type": "stream",
     "text": [
      "[nltk_data] Downloading package stopwords to\n",
      "[nltk_data]     C:\\Users\\morin\\AppData\\Roaming\\nltk_data...\n",
      "[nltk_data]   Unzipping corpora\\stopwords.zip.\n",
      "[nltk_data] Downloading package punkt to\n",
      "[nltk_data]     C:\\Users\\morin\\AppData\\Roaming\\nltk_data...\n",
      "[nltk_data]   Package punkt is already up-to-date!\n",
      "[nltk_data] Downloading package wordnet to\n",
      "[nltk_data]     C:\\Users\\morin\\AppData\\Roaming\\nltk_data...\n",
      "[nltk_data]   Package wordnet is already up-to-date!\n"
     ]
    },
    {
     "data": {
      "text/plain": [
       "0    bit sudden listen seriously question ask think...\n",
       "1    ayanokouji ok came came feared situation prete...\n",
       "2    second day school even though technically firs...\n",
       "3    good morning yamauchi good morning ike arrivin...\n",
       "4    kikyou want stop cafe way home un let go ah wa...\n",
       "Name: Clean_Text, dtype: object"
      ]
     },
     "execution_count": 6,
     "metadata": {},
     "output_type": "execute_result"
    }
   ],
   "source": [
    "#Removing Punctuation and Stopwords\n",
    "\n",
    "import re\n",
    "import nltk\n",
    "from nltk.corpus import stopwords\n",
    "from nltk.tokenize import word_tokenize\n",
    "#from nltk.stem import WordNetLemmatizer\n",
    "\n",
    "nltk.download('stopwords')\n",
    "nltk.download('punkt')\n",
    "nltk.download('wordnet')\n",
    "\n",
    "stop_words = stopwords.words('english2')\n",
    "#le=WordNetLemmatizer()\n",
    "\n",
    "def clean_text(x):\n",
    "    x = str(x)\n",
    "    x = x.lower()\n",
    "    #tokens = word_tokenize(x)\n",
    "    #x = ' '.join([w for w in tokens if not w in stop_words])\n",
    "    x = re.sub(r'[%s]' % re.escape('!\"#$%&\\()*+,-./:;<=>?@[\\\\]^_`{|}~“…”’'), ' ', x)\n",
    "    tokens = word_tokenize(x)\n",
    "    x = ' '.join([w for w in tokens if not w in stop_words])\n",
    "    x = re.sub(r'boys ', 'boy ', x)\n",
    "    x = re.sub(r'girls ', 'girl ', x)\n",
    "    x = re.sub(r'students ', 'student ', x)\n",
    "    x = re.sub(r'volume ', ' ', x) #Word specific to the epilogues but not to the story, better to filter it out\n",
    "    x = re.sub(r'horikita ', ' ', x) #name used for 2 different characters, used in almost any present every topic if not filtered out\n",
    "    x = re.sub(r'\\d+', ' ', x)\n",
    "    x = re.sub(r'\\n+', ' ', x)\n",
    "    x = re.sub(r'\\s{2,}', ' ', x)\n",
    "    return x\n",
    "\n",
    "\n",
    "df['Clean_Text'] = df.Text.apply(clean_text)\n",
    "df['Clean_Text'].head()"
   ]
  },
  {
   "cell_type": "code",
   "execution_count": 7,
   "id": "4d60caa4",
   "metadata": {},
   "outputs": [
    {
     "name": "stdout",
     "output_type": "stream",
     "text": [
      "['i', 'me', 'my', 'myself', 'we', 'our', 'ours', 'ourselves', 'you', \"you're\", \"you've\", \"you'll\", \"you'd\", 'your', 'yours', 'yourself', 'yourselves', 'he', 'him', 'his', 'himself', 'she', \"she's\", 'her', 'hers', 'herself', 'it', \"it's\", 'its', 'itself', 'they', 'them', 'their', 'theirs', 'themselves', 'what', 'which', 'who', 'whom', 'this', 'that', \"that'll\", 'these', 'those', 'am', 'is', 'are', 'was', 'were', 'be', 'been', 'being', 'have', 'has', 'had', 'having', 'do', 'does', 'did', 'doing', 'a', 'an', 'the', 'and', 'but', 'if', 'or', 'because', 'as', 'until', 'while', 'of', 'at', 'by', 'for', 'with', 'about', 'against', 'between', 'into', 'through', 'during', 'before', 'after', 'above', 'below', 'to', 'from', 'up', 'down', 'in', 'out', 'on', 'off', 'over', 'under', 'again', 'further', 'then', 'once', 'here', 'there', 'when', 'where', 'why', 'how', 'all', 'any', 'both', 'each', 'few', 'more', 'most', 'other', 'some', 'such', 'no', 'nor', 'not', 'only', 'own', 'same', 'so', 'than', 'too', 'very', 's', 't', 'can', 'will', 'just', 'don', \"don't\", 'should', \"should've\", 'now', 'd', 'll', 'm', 'o', 're', 've', 'y', 'ain', 'aren', \"aren't\", 'couldn', \"couldn't\", 'didn', \"didn't\", 'doesn', \"doesn't\", 'hadn', \"hadn't\", 'hasn', \"hasn't\", 'haven', \"haven't\", 'isn', \"isn't\", 'ma', 'mightn', \"mightn't\", 'mustn', \"mustn't\", 'needn', \"needn't\", 'shan', \"shan't\", 'shouldn', \"shouldn't\", 'wasn', \"wasn't\", 'weren', \"weren't\", 'won', \"won't\", 'wouldn', \"wouldn't\", 'till', 'although', 'kun', 'san', 'chan', 'th', 'ca', 'st', 'ai', 'wo', 'nd', 'mr', 'mrs', 'sir', 'two', 'three', 'four', 'five', 'six', 'seven', 'eight', 'nine', 'ten']\n"
     ]
    }
   ],
   "source": [
    "print(stop_words)"
   ]
  },
  {
   "cell_type": "code",
   "execution_count": 8,
   "id": "f6785d6a",
   "metadata": {},
   "outputs": [
    {
     "data": {
      "text/plain": [
       "0        2680\n",
       "1       58100\n",
       "2       23881\n",
       "3       22311\n",
       "4       18958\n",
       "        ...  \n",
       "171     56568\n",
       "172     72295\n",
       "173     85384\n",
       "174    104494\n",
       "175     12526\n",
       "Name: Text_Len, Length: 176, dtype: int64"
      ]
     },
     "execution_count": 8,
     "metadata": {},
     "output_type": "execute_result"
    }
   ],
   "source": [
    "df[\"Text_Len\"] = df[\"Text\"].apply(len)\n",
    "df[\"Text_Len\"]"
   ]
  },
  {
   "cell_type": "code",
   "execution_count": 9,
   "id": "c4129969",
   "metadata": {},
   "outputs": [
    {
     "data": {
      "text/plain": [
       "176240"
      ]
     },
     "execution_count": 9,
     "metadata": {},
     "output_type": "execute_result"
    }
   ],
   "source": [
    "max(df[\"Text_Len\"]) #176240"
   ]
  },
  {
   "cell_type": "code",
   "execution_count": 10,
   "id": "c721f66a",
   "metadata": {},
   "outputs": [
    {
     "data": {
      "text/plain": [
       "0       1579\n",
       "1      33549\n",
       "2      13543\n",
       "3      13070\n",
       "4      10313\n",
       "       ...  \n",
       "171    31546\n",
       "172    42541\n",
       "173    50565\n",
       "174    57558\n",
       "175     7273\n",
       "Name: Clean_Text_Len, Length: 176, dtype: int64"
      ]
     },
     "execution_count": 10,
     "metadata": {},
     "output_type": "execute_result"
    }
   ],
   "source": [
    "df[\"Clean_Text_Len\"] = df[\"Clean_Text\"].apply(len)\n",
    "df[\"Clean_Text_Len\"]"
   ]
  },
  {
   "cell_type": "code",
   "execution_count": 11,
   "id": "515a0fb8",
   "metadata": {},
   "outputs": [
    {
     "data": {
      "text/plain": [
       "102499"
      ]
     },
     "execution_count": 11,
     "metadata": {},
     "output_type": "execute_result"
    }
   ],
   "source": [
    "max(df[\"Clean_Text_Len\"]) #104346"
   ]
  },
  {
   "cell_type": "markdown",
   "id": "e1e88835",
   "metadata": {},
   "source": [
    "## Main Data"
   ]
  },
  {
   "cell_type": "code",
   "execution_count": 12,
   "id": "2a38d317",
   "metadata": {},
   "outputs": [],
   "source": [
    "df_Main = df[df[\"Volume_Type\"] == \"Main\"]"
   ]
  },
  {
   "cell_type": "code",
   "execution_count": 13,
   "id": "b0a40149",
   "metadata": {
    "scrolled": true
   },
   "outputs": [
    {
     "name": "stderr",
     "output_type": "stream",
     "text": [
      "C:\\Users\\morin\\AppData\\Local\\Temp\\ipykernel_11236\\1618050120.py:4: FutureWarning: The frame.append method is deprecated and will be removed from pandas in a future version. Use pandas.concat instead.\n",
      "  df_Main_ = df_Main1.append(df_Main2, ignore_index=True)\n",
      "C:\\Users\\morin\\AppData\\Local\\Temp\\ipykernel_11236\\1618050120.py:5: FutureWarning: The frame.append method is deprecated and will be removed from pandas in a future version. Use pandas.concat instead.\n",
      "  df_Main_ = df_Main_.append(df_Main3, ignore_index=True)\n"
     ]
    },
    {
     "data": {
      "text/html": [
       "<div>\n",
       "<style scoped>\n",
       "    .dataframe tbody tr th:only-of-type {\n",
       "        vertical-align: middle;\n",
       "    }\n",
       "\n",
       "    .dataframe tbody tr th {\n",
       "        vertical-align: top;\n",
       "    }\n",
       "\n",
       "    .dataframe thead th {\n",
       "        text-align: right;\n",
       "    }\n",
       "</style>\n",
       "<table border=\"1\" class=\"dataframe\">\n",
       "  <thead>\n",
       "    <tr style=\"text-align: right;\">\n",
       "      <th></th>\n",
       "      <th>ID</th>\n",
       "      <th>Volume</th>\n",
       "      <th>Volume_Type</th>\n",
       "      <th>Chapter_Type</th>\n",
       "      <th>Chapter_Num</th>\n",
       "      <th>PublishingDate_Original</th>\n",
       "      <th>Title</th>\n",
       "      <th>Text</th>\n",
       "      <th>Translator</th>\n",
       "      <th>Editor</th>\n",
       "      <th>Proofreader</th>\n",
       "      <th>Trimester</th>\n",
       "      <th>Clean_Text</th>\n",
       "      <th>Text_Len</th>\n",
       "      <th>Clean_Text_Len</th>\n",
       "    </tr>\n",
       "  </thead>\n",
       "  <tbody>\n",
       "    <tr>\n",
       "      <th>0</th>\n",
       "      <td>1_P</td>\n",
       "      <td>1.0</td>\n",
       "      <td>Main</td>\n",
       "      <td>Prologue</td>\n",
       "      <td>0.0</td>\n",
       "      <td>2015-05-25</td>\n",
       "      <td>The structure of Japanese society</td>\n",
       "      <td>It s a bit sudden, but listen seriously to ...</td>\n",
       "      <td>qbomb</td>\n",
       "      <td>NaN</td>\n",
       "      <td>NaN</td>\n",
       "      <td>1</td>\n",
       "      <td>bit sudden listen seriously question ask think...</td>\n",
       "      <td>2680</td>\n",
       "      <td>1579</td>\n",
       "    </tr>\n",
       "    <tr>\n",
       "      <th>1</th>\n",
       "      <td>2_P</td>\n",
       "      <td>2.0</td>\n",
       "      <td>Main</td>\n",
       "      <td>Prologue</td>\n",
       "      <td>12.0</td>\n",
       "      <td>2015-09-25</td>\n",
       "      <td>The monologue of Sakura Airi</td>\n",
       "      <td>I’m not very good at interacting with other...</td>\n",
       "      <td>qbomb</td>\n",
       "      <td>Candy-Sama</td>\n",
       "      <td>Josh-kun</td>\n",
       "      <td>1</td>\n",
       "      <td>good interacting people good talking people ma...</td>\n",
       "      <td>1202</td>\n",
       "      <td>665</td>\n",
       "    </tr>\n",
       "    <tr>\n",
       "      <th>2</th>\n",
       "      <td>3_P</td>\n",
       "      <td>3.0</td>\n",
       "      <td>Main</td>\n",
       "      <td>Prologue</td>\n",
       "      <td>16.0</td>\n",
       "      <td>2016-01-25</td>\n",
       "      <td>Chiyabashira Sae s monologue</td>\n",
       "      <td>There are many stories in Greek Mythology t...</td>\n",
       "      <td>black_miri</td>\n",
       "      <td>NaN</td>\n",
       "      <td>NaN</td>\n",
       "      <td>1</td>\n",
       "      <td>many stories greek mythology include human sus...</td>\n",
       "      <td>2585</td>\n",
       "      <td>1541</td>\n",
       "    </tr>\n",
       "    <tr>\n",
       "      <th>3</th>\n",
       "      <td>4_P</td>\n",
       "      <td>4.0</td>\n",
       "      <td>Main</td>\n",
       "      <td>Prologue</td>\n",
       "      <td>22.0</td>\n",
       "      <td>2016-05-25</td>\n",
       "      <td>Karuizawa Kei s Monologue</td>\n",
       "      <td>In the end, even after I entered this schoo...</td>\n",
       "      <td>Anon from 4chan</td>\n",
       "      <td>NaN</td>\n",
       "      <td>NaN</td>\n",
       "      <td>1</td>\n",
       "      <td>end even entered school nothing changed perhap...</td>\n",
       "      <td>1713</td>\n",
       "      <td>906</td>\n",
       "    </tr>\n",
       "    <tr>\n",
       "      <th>4</th>\n",
       "      <td>5_P</td>\n",
       "      <td>5.0</td>\n",
       "      <td>Main</td>\n",
       "      <td>Prologue</td>\n",
       "      <td>34.0</td>\n",
       "      <td>2017-01-25</td>\n",
       "      <td>Sudou Ken s Monologue</td>\n",
       "      <td>To be honest, I m not a proper human being....</td>\n",
       "      <td>Anon from 4chan</td>\n",
       "      <td>NaN</td>\n",
       "      <td>NaN</td>\n",
       "      <td>2</td>\n",
       "      <td>honest proper human need someone else tell dec...</td>\n",
       "      <td>1235</td>\n",
       "      <td>747</td>\n",
       "    </tr>\n",
       "  </tbody>\n",
       "</table>\n",
       "</div>"
      ],
      "text/plain": [
       "    ID  Volume Volume_Type Chapter_Type  Chapter_Num PublishingDate_Original  \\\n",
       "0  1_P     1.0        Main     Prologue          0.0              2015-05-25   \n",
       "1  2_P     2.0        Main     Prologue         12.0              2015-09-25   \n",
       "2  3_P     3.0        Main     Prologue         16.0              2016-01-25   \n",
       "3  4_P     4.0        Main     Prologue         22.0              2016-05-25   \n",
       "4  5_P     5.0        Main     Prologue         34.0              2017-01-25   \n",
       "\n",
       "                                     Title  \\\n",
       "0     The structure of Japanese society      \n",
       "1          The monologue of Sakura Airi      \n",
       "2          Chiyabashira Sae s monologue      \n",
       "3             Karuizawa Kei s Monologue      \n",
       "4                 Sudou Ken s Monologue      \n",
       "\n",
       "                                                Text       Translator  \\\n",
       "0     It s a bit sudden, but listen seriously to ...            qbomb   \n",
       "1     I’m not very good at interacting with other...            qbomb   \n",
       "2     There are many stories in Greek Mythology t...       black_miri   \n",
       "3     In the end, even after I entered this schoo...  Anon from 4chan   \n",
       "4     To be honest, I m not a proper human being....  Anon from 4chan   \n",
       "\n",
       "       Editor Proofreader Trimester  \\\n",
       "0         NaN         NaN         1   \n",
       "1  Candy-Sama    Josh-kun         1   \n",
       "2         NaN         NaN         1   \n",
       "3         NaN         NaN         1   \n",
       "4         NaN         NaN         2   \n",
       "\n",
       "                                          Clean_Text  Text_Len  Clean_Text_Len  \n",
       "0  bit sudden listen seriously question ask think...      2680            1579  \n",
       "1  good interacting people good talking people ma...      1202             665  \n",
       "2  many stories greek mythology include human sus...      2585            1541  \n",
       "3  end even entered school nothing changed perhap...      1713             906  \n",
       "4  honest proper human need someone else tell dec...      1235             747  "
      ]
     },
     "execution_count": 13,
     "metadata": {},
     "output_type": "execute_result"
    }
   ],
   "source": [
    "df_Main1 = df_Main[df_Main[\"Chapter_Type\"] == \"Prologue\"]\n",
    "df_Main2 = df_Main[df_Main[\"Chapter_Type\"] == \"Chapter\"]\n",
    "df_Main3 = df_Main[df_Main[\"Chapter_Type\"] == \"Epilogue\"]\n",
    "df_Main_ = df_Main1.append(df_Main2, ignore_index=True)\n",
    "df_Main_ = df_Main_.append(df_Main3, ignore_index=True)\n",
    "df_Main_.head()"
   ]
  },
  {
   "cell_type": "markdown",
   "id": "32fc3947",
   "metadata": {},
   "source": [
    "## Pretrain Data: CotE"
   ]
  },
  {
   "cell_type": "code",
   "execution_count": 14,
   "id": "84daf91c",
   "metadata": {},
   "outputs": [],
   "source": [
    "#STEP 1: Splitting of Subvolumes\n",
    "\n",
    "df_SubPretrain = df[df[\"Volume_Type\"] == \"Sub\"]"
   ]
  },
  {
   "cell_type": "code",
   "execution_count": 15,
   "id": "39fc517c",
   "metadata": {
    "scrolled": true
   },
   "outputs": [
    {
     "name": "stderr",
     "output_type": "stream",
     "text": [
      "C:\\Users\\morin\\AppData\\Local\\Temp\\ipykernel_11236\\3620367066.py:5: FutureWarning: The frame.append method is deprecated and will be removed from pandas in a future version. Use pandas.concat instead.\n",
      "  df_BonusPretrain = df_BonusPretrain1.append(df_BonusPretrain2, ignore_index=True)\n"
     ]
    },
    {
     "data": {
      "text/html": [
       "<div>\n",
       "<style scoped>\n",
       "    .dataframe tbody tr th:only-of-type {\n",
       "        vertical-align: middle;\n",
       "    }\n",
       "\n",
       "    .dataframe tbody tr th {\n",
       "        vertical-align: top;\n",
       "    }\n",
       "\n",
       "    .dataframe thead th {\n",
       "        text-align: right;\n",
       "    }\n",
       "</style>\n",
       "<table border=\"1\" class=\"dataframe\">\n",
       "  <thead>\n",
       "    <tr style=\"text-align: right;\">\n",
       "      <th></th>\n",
       "      <th>ID</th>\n",
       "      <th>Volume</th>\n",
       "      <th>Volume_Type</th>\n",
       "      <th>Chapter_Type</th>\n",
       "      <th>Chapter_Num</th>\n",
       "      <th>PublishingDate_Original</th>\n",
       "      <th>Title</th>\n",
       "      <th>Text</th>\n",
       "      <th>Translator</th>\n",
       "      <th>Editor</th>\n",
       "      <th>Proofreader</th>\n",
       "      <th>Trimester</th>\n",
       "      <th>Clean_Text</th>\n",
       "      <th>Text_Len</th>\n",
       "      <th>Clean_Text_Len</th>\n",
       "    </tr>\n",
       "  </thead>\n",
       "  <tbody>\n",
       "    <tr>\n",
       "      <th>0</th>\n",
       "      <td>10_B1</td>\n",
       "      <td>10.0</td>\n",
       "      <td>Main</td>\n",
       "      <td>Bonus</td>\n",
       "      <td>NaN</td>\n",
       "      <td>2019-01-25</td>\n",
       "      <td>Ichinose Honami Short Story: Apparent Diffi...</td>\n",
       "      <td>A short distance from the dorms. I was stan...</td>\n",
       "      <td>Graze, Regular Days, Hina, Liam, and Alice (Ci...</td>\n",
       "      <td>christmas_cavalier, Graze, Catalystic, Regular...</td>\n",
       "      <td>NaN</td>\n",
       "      <td>3</td>\n",
       "      <td>short distance dorms standing shadow vending m...</td>\n",
       "      <td>3227</td>\n",
       "      <td>1950</td>\n",
       "    </tr>\n",
       "    <tr>\n",
       "      <th>1</th>\n",
       "      <td>10_B2</td>\n",
       "      <td>10.0</td>\n",
       "      <td>Main</td>\n",
       "      <td>Bonus</td>\n",
       "      <td>NaN</td>\n",
       "      <td>2019-01-25</td>\n",
       "      <td>Horikita Suzune Short Story: Neighbour</td>\n",
       "      <td>He walked past me and stood in front of Kou...</td>\n",
       "      <td>Graze, Regular Days, Hina, Liam, and Alice (Ci...</td>\n",
       "      <td>christmas_cavalier, Graze, Catalystic, Regular...</td>\n",
       "      <td>NaN</td>\n",
       "      <td>3</td>\n",
       "      <td>walked past stood front kouenji seems talking ...</td>\n",
       "      <td>3063</td>\n",
       "      <td>1763</td>\n",
       "    </tr>\n",
       "    <tr>\n",
       "      <th>2</th>\n",
       "      <td>10_B3</td>\n",
       "      <td>10.0</td>\n",
       "      <td>Main</td>\n",
       "      <td>Bonus</td>\n",
       "      <td>NaN</td>\n",
       "      <td>2019-01-25</td>\n",
       "      <td>Sakayanagi Arisu Short Story</td>\n",
       "      <td>A space for only me and Ayanokouji was spre...</td>\n",
       "      <td>Graze, Regular Days, Hina, Liam, and Alice (Ci...</td>\n",
       "      <td>christmas_cavalier, Graze, Catalystic, Regular...</td>\n",
       "      <td>NaN</td>\n",
       "      <td>3</td>\n",
       "      <td>space ayanokouji spreading eyes wearing usual ...</td>\n",
       "      <td>2497</td>\n",
       "      <td>1391</td>\n",
       "    </tr>\n",
       "    <tr>\n",
       "      <th>3</th>\n",
       "      <td>10_B4</td>\n",
       "      <td>10.0</td>\n",
       "      <td>Main</td>\n",
       "      <td>Bonus</td>\n",
       "      <td>NaN</td>\n",
       "      <td>2019-01-25</td>\n",
       "      <td>Ichinose Honami Short Story: Small Heartbea...</td>\n",
       "      <td>The time crept closer towards midnight. I’v...</td>\n",
       "      <td>Graze, Regular Days, Hina, Liam, and Alice (Ci...</td>\n",
       "      <td>christmas_cavalier, Graze, Catalystic, Regular...</td>\n",
       "      <td>NaN</td>\n",
       "      <td>3</td>\n",
       "      <td>time crept closer towards midnight hanging aro...</td>\n",
       "      <td>1956</td>\n",
       "      <td>1077</td>\n",
       "    </tr>\n",
       "    <tr>\n",
       "      <th>4</th>\n",
       "      <td>11_B1</td>\n",
       "      <td>11.0</td>\n",
       "      <td>Main</td>\n",
       "      <td>Bonus</td>\n",
       "      <td>NaN</td>\n",
       "      <td>2019-05-25</td>\n",
       "      <td>Sakayanagi Arisu (Tapestry) Short Story: Th...</td>\n",
       "      <td>I was deep at sleep. The appearances of mys...</td>\n",
       "      <td>Confused Translations, Alice (Cinnamon)</td>\n",
       "      <td>christmas_cavalier</td>\n",
       "      <td>NaN</td>\n",
       "      <td>3</td>\n",
       "      <td>deep sleep appearances young repeatedly projec...</td>\n",
       "      <td>1763</td>\n",
       "      <td>1060</td>\n",
       "    </tr>\n",
       "  </tbody>\n",
       "</table>\n",
       "</div>"
      ],
      "text/plain": [
       "      ID  Volume Volume_Type Chapter_Type  Chapter_Num  \\\n",
       "0  10_B1    10.0        Main        Bonus          NaN   \n",
       "1  10_B2    10.0        Main        Bonus          NaN   \n",
       "2  10_B3    10.0        Main        Bonus          NaN   \n",
       "3  10_B4    10.0        Main        Bonus          NaN   \n",
       "4  11_B1    11.0        Main        Bonus          NaN   \n",
       "\n",
       "  PublishingDate_Original                                              Title  \\\n",
       "0              2019-01-25     Ichinose Honami Short Story: Apparent Diffi...   \n",
       "1              2019-01-25          Horikita Suzune Short Story: Neighbour      \n",
       "2              2019-01-25                    Sakayanagi Arisu Short Story      \n",
       "3              2019-01-25     Ichinose Honami Short Story: Small Heartbea...   \n",
       "4              2019-05-25     Sakayanagi Arisu (Tapestry) Short Story: Th...   \n",
       "\n",
       "                                                Text  \\\n",
       "0     A short distance from the dorms. I was stan...   \n",
       "1     He walked past me and stood in front of Kou...   \n",
       "2     A space for only me and Ayanokouji was spre...   \n",
       "3     The time crept closer towards midnight. I’v...   \n",
       "4     I was deep at sleep. The appearances of mys...   \n",
       "\n",
       "                                          Translator  \\\n",
       "0  Graze, Regular Days, Hina, Liam, and Alice (Ci...   \n",
       "1  Graze, Regular Days, Hina, Liam, and Alice (Ci...   \n",
       "2  Graze, Regular Days, Hina, Liam, and Alice (Ci...   \n",
       "3  Graze, Regular Days, Hina, Liam, and Alice (Ci...   \n",
       "4            Confused Translations, Alice (Cinnamon)   \n",
       "\n",
       "                                              Editor Proofreader Trimester  \\\n",
       "0  christmas_cavalier, Graze, Catalystic, Regular...         NaN         3   \n",
       "1  christmas_cavalier, Graze, Catalystic, Regular...         NaN         3   \n",
       "2  christmas_cavalier, Graze, Catalystic, Regular...         NaN         3   \n",
       "3  christmas_cavalier, Graze, Catalystic, Regular...         NaN         3   \n",
       "4                                 christmas_cavalier         NaN         3   \n",
       "\n",
       "                                          Clean_Text  Text_Len  Clean_Text_Len  \n",
       "0  short distance dorms standing shadow vending m...      3227            1950  \n",
       "1  walked past stood front kouenji seems talking ...      3063            1763  \n",
       "2  space ayanokouji spreading eyes wearing usual ...      2497            1391  \n",
       "3  time crept closer towards midnight hanging aro...      1956            1077  \n",
       "4  deep sleep appearances young repeatedly projec...      1763            1060  "
      ]
     },
     "execution_count": 15,
     "metadata": {},
     "output_type": "execute_result"
    }
   ],
   "source": [
    "#STEP 2: Splitting of Bonus Chapters and Afterwords\n",
    "\n",
    "df_BonusPretrain1 = df_Main[df_Main[\"Chapter_Type\"] == \"Bonus\"]\n",
    "df_BonusPretrain2 = df_Main[df_Main[\"Chapter_Type\"] == \"Afterword\"]\n",
    "df_BonusPretrain = df_BonusPretrain1.append(df_BonusPretrain2, ignore_index=True)\n",
    "df_BonusPretrain.head()"
   ]
  },
  {
   "cell_type": "code",
   "execution_count": 16,
   "id": "858601f8",
   "metadata": {},
   "outputs": [
    {
     "name": "stderr",
     "output_type": "stream",
     "text": [
      "C:\\Users\\morin\\AppData\\Local\\Temp\\ipykernel_11236\\4126994811.py:1: FutureWarning: The frame.append method is deprecated and will be removed from pandas in a future version. Use pandas.concat instead.\n",
      "  df_Pretrain = df_SubPretrain.append(df_BonusPretrain, ignore_index=True)\n"
     ]
    },
    {
     "data": {
      "text/html": [
       "<div>\n",
       "<style scoped>\n",
       "    .dataframe tbody tr th:only-of-type {\n",
       "        vertical-align: middle;\n",
       "    }\n",
       "\n",
       "    .dataframe tbody tr th {\n",
       "        vertical-align: top;\n",
       "    }\n",
       "\n",
       "    .dataframe thead th {\n",
       "        text-align: right;\n",
       "    }\n",
       "</style>\n",
       "<table border=\"1\" class=\"dataframe\">\n",
       "  <thead>\n",
       "    <tr style=\"text-align: right;\">\n",
       "      <th></th>\n",
       "      <th>ID</th>\n",
       "      <th>Volume</th>\n",
       "      <th>Volume_Type</th>\n",
       "      <th>Chapter_Type</th>\n",
       "      <th>Chapter_Num</th>\n",
       "      <th>PublishingDate_Original</th>\n",
       "      <th>Title</th>\n",
       "      <th>Text</th>\n",
       "      <th>Translator</th>\n",
       "      <th>Editor</th>\n",
       "      <th>Proofreader</th>\n",
       "      <th>Trimester</th>\n",
       "      <th>Clean_Text</th>\n",
       "      <th>Text_Len</th>\n",
       "      <th>Clean_Text_Len</th>\n",
       "    </tr>\n",
       "  </thead>\n",
       "  <tbody>\n",
       "    <tr>\n",
       "      <th>0</th>\n",
       "      <td>4.5_P</td>\n",
       "      <td>4.5</td>\n",
       "      <td>Sub</td>\n",
       "      <td>Prologue</td>\n",
       "      <td>27.0</td>\n",
       "      <td>2016-09-23</td>\n",
       "      <td>Even so the Summer Vacation heads towards i...</td>\n",
       "      <td>Sazae-san syndrome. I wonder if you ve hear...</td>\n",
       "      <td>Anon from 4chan</td>\n",
       "      <td>NaN</td>\n",
       "      <td>NaN</td>\n",
       "      <td>Vacation</td>\n",
       "      <td>sazae syndrome wonder heard word explain simpl...</td>\n",
       "      <td>1801</td>\n",
       "      <td>1046</td>\n",
       "    </tr>\n",
       "    <tr>\n",
       "      <th>1</th>\n",
       "      <td>4.5_1</td>\n",
       "      <td>4.5</td>\n",
       "      <td>Sub</td>\n",
       "      <td>Chapter</td>\n",
       "      <td>28.0</td>\n",
       "      <td>2016-09-23</td>\n",
       "      <td>Ibuki Mio is surprisingly a person with com...</td>\n",
       "      <td>PART_1    Special exam. The first thing tha...</td>\n",
       "      <td>Anon from 4chan</td>\n",
       "      <td>Nan</td>\n",
       "      <td>NaN</td>\n",
       "      <td>Vacation</td>\n",
       "      <td>part special exam first thing comes mind upon ...</td>\n",
       "      <td>77053</td>\n",
       "      <td>44062</td>\n",
       "    </tr>\n",
       "    <tr>\n",
       "      <th>2</th>\n",
       "      <td>4.5_2</td>\n",
       "      <td>4.5</td>\n",
       "      <td>Sub</td>\n",
       "      <td>Chapter</td>\n",
       "      <td>29.0</td>\n",
       "      <td>2016-09-23</td>\n",
       "      <td>Katsuragi Kohei is surprisingly troubled</td>\n",
       "      <td>PART_1    A lot of the time, I think Japane...</td>\n",
       "      <td>Anon from 4chan</td>\n",
       "      <td>NaN</td>\n",
       "      <td>NaN</td>\n",
       "      <td>Vacation</td>\n",
       "      <td>part lot time think japanese people tolerant r...</td>\n",
       "      <td>112390</td>\n",
       "      <td>63730</td>\n",
       "    </tr>\n",
       "    <tr>\n",
       "      <th>3</th>\n",
       "      <td>4.5_3</td>\n",
       "      <td>4.5</td>\n",
       "      <td>Sub</td>\n",
       "      <td>Chapter</td>\n",
       "      <td>30.0</td>\n",
       "      <td>2016-09-23</td>\n",
       "      <td>Even then, there is danger lurking in daily...</td>\n",
       "      <td>PART_1    It all began with a sudden incide...</td>\n",
       "      <td>Anon from 4chan</td>\n",
       "      <td>NaN</td>\n",
       "      <td>NaN</td>\n",
       "      <td>Vacation</td>\n",
       "      <td>part began sudden incident clock evening certa...</td>\n",
       "      <td>45986</td>\n",
       "      <td>24907</td>\n",
       "    </tr>\n",
       "    <tr>\n",
       "      <th>4</th>\n",
       "      <td>4.5_4</td>\n",
       "      <td>4.5</td>\n",
       "      <td>Sub</td>\n",
       "      <td>Chapter</td>\n",
       "      <td>31.0</td>\n",
       "      <td>2016-09-23</td>\n",
       "      <td>A Day of Disaster and Girl Troubles. A Devi...</td>\n",
       "      <td>PART_1     Today I ll be making you coopera...</td>\n",
       "      <td>Anon from 4chan</td>\n",
       "      <td>NaN</td>\n",
       "      <td>NaN</td>\n",
       "      <td>Vacation</td>\n",
       "      <td>part today making cooperate ayanokouji first t...</td>\n",
       "      <td>37704</td>\n",
       "      <td>20892</td>\n",
       "    </tr>\n",
       "  </tbody>\n",
       "</table>\n",
       "</div>"
      ],
      "text/plain": [
       "      ID  Volume Volume_Type Chapter_Type  Chapter_Num  \\\n",
       "0  4.5_P     4.5         Sub     Prologue         27.0   \n",
       "1  4.5_1     4.5         Sub      Chapter         28.0   \n",
       "2  4.5_2     4.5         Sub      Chapter         29.0   \n",
       "3  4.5_3     4.5         Sub      Chapter         30.0   \n",
       "4  4.5_4     4.5         Sub      Chapter         31.0   \n",
       "\n",
       "  PublishingDate_Original                                              Title  \\\n",
       "0              2016-09-23     Even so the Summer Vacation heads towards i...   \n",
       "1              2016-09-23     Ibuki Mio is surprisingly a person with com...   \n",
       "2              2016-09-23        Katsuragi Kohei is surprisingly troubled      \n",
       "3              2016-09-23     Even then, there is danger lurking in daily...   \n",
       "4              2016-09-23     A Day of Disaster and Girl Troubles. A Devi...   \n",
       "\n",
       "                                                Text       Translator Editor  \\\n",
       "0     Sazae-san syndrome. I wonder if you ve hear...  Anon from 4chan    NaN   \n",
       "1     PART_1    Special exam. The first thing tha...  Anon from 4chan    Nan   \n",
       "2     PART_1    A lot of the time, I think Japane...  Anon from 4chan    NaN   \n",
       "3     PART_1    It all began with a sudden incide...  Anon from 4chan    NaN   \n",
       "4     PART_1     Today I ll be making you coopera...  Anon from 4chan    NaN   \n",
       "\n",
       "  Proofreader Trimester                                         Clean_Text  \\\n",
       "0         NaN  Vacation  sazae syndrome wonder heard word explain simpl...   \n",
       "1         NaN  Vacation  part special exam first thing comes mind upon ...   \n",
       "2         NaN  Vacation  part lot time think japanese people tolerant r...   \n",
       "3         NaN  Vacation  part began sudden incident clock evening certa...   \n",
       "4         NaN  Vacation  part today making cooperate ayanokouji first t...   \n",
       "\n",
       "   Text_Len  Clean_Text_Len  \n",
       "0      1801            1046  \n",
       "1     77053           44062  \n",
       "2    112390           63730  \n",
       "3     45986           24907  \n",
       "4     37704           20892  "
      ]
     },
     "execution_count": 16,
     "metadata": {},
     "output_type": "execute_result"
    }
   ],
   "source": [
    "df_Pretrain = df_SubPretrain.append(df_BonusPretrain, ignore_index=True)\n",
    "df_Pretrain.head()"
   ]
  },
  {
   "cell_type": "code",
   "execution_count": 17,
   "id": "a5804543",
   "metadata": {},
   "outputs": [],
   "source": [
    "def count_tokens(df_textcolumn_text):\n",
    "    \"\"\"Count tokens in text column\"\"\"\n",
    "    n_tokens = 0\n",
    "\n",
    "    tokenlist = df_textcolumn_text.split()\n",
    "    n_tokens = len(tokenlist)\n",
    "\n",
    "    return n_tokens"
   ]
  },
  {
   "cell_type": "code",
   "execution_count": 18,
   "id": "4adabd65",
   "metadata": {},
   "outputs": [
    {
     "data": {
      "text/plain": [
       "0       337\n",
       "1     14463\n",
       "2     21334\n",
       "3      8865\n",
       "4      7154\n",
       "      ...  \n",
       "56      412\n",
       "57      422\n",
       "58      307\n",
       "59      419\n",
       "60      281\n",
       "Name: tokencount, Length: 61, dtype: int64"
      ]
     },
     "execution_count": 18,
     "metadata": {},
     "output_type": "execute_result"
    }
   ],
   "source": [
    "df_Pretrain['tokencount'] = df_Pretrain[\"Text\"].apply(count_tokens)\n",
    "df_Pretrain['tokencount']"
   ]
  },
  {
   "cell_type": "code",
   "execution_count": 19,
   "id": "b2d5322a",
   "metadata": {},
   "outputs": [
    {
     "data": {
      "text/plain": [
       "193177"
      ]
     },
     "execution_count": 19,
     "metadata": {},
     "output_type": "execute_result"
    }
   ],
   "source": [
    "TokenCountPretrain = sum(df_Pretrain['tokencount'])\n",
    "TokenCountPretrain"
   ]
  },
  {
   "cell_type": "code",
   "execution_count": 20,
   "id": "6c8e77ac",
   "metadata": {},
   "outputs": [
    {
     "data": {
      "text/plain": [
       "61"
      ]
     },
     "execution_count": 20,
     "metadata": {},
     "output_type": "execute_result"
    }
   ],
   "source": [
    "DocLenPretrain = len(df_Pretrain[\"Text\"]) #61 text documents\n",
    "DocLenPretrain"
   ]
  },
  {
   "cell_type": "code",
   "execution_count": 21,
   "id": "2fd06850",
   "metadata": {},
   "outputs": [
    {
     "data": {
      "text/html": [
       "<div>\n",
       "<style scoped>\n",
       "    .dataframe tbody tr th:only-of-type {\n",
       "        vertical-align: middle;\n",
       "    }\n",
       "\n",
       "    .dataframe tbody tr th {\n",
       "        vertical-align: top;\n",
       "    }\n",
       "\n",
       "    .dataframe thead th {\n",
       "        text-align: right;\n",
       "    }\n",
       "</style>\n",
       "<table border=\"1\" class=\"dataframe\">\n",
       "  <thead>\n",
       "    <tr style=\"text-align: right;\">\n",
       "      <th></th>\n",
       "      <th>Clean_Text</th>\n",
       "    </tr>\n",
       "  </thead>\n",
       "  <tbody>\n",
       "    <tr>\n",
       "      <th>0</th>\n",
       "      <td>sazae syndrome wonder heard word explain simpl...</td>\n",
       "    </tr>\n",
       "    <tr>\n",
       "      <th>1</th>\n",
       "      <td>part special exam first thing comes mind upon ...</td>\n",
       "    </tr>\n",
       "    <tr>\n",
       "      <th>2</th>\n",
       "      <td>part lot time think japanese people tolerant r...</td>\n",
       "    </tr>\n",
       "    <tr>\n",
       "      <th>3</th>\n",
       "      <td>part began sudden incident clock evening certa...</td>\n",
       "    </tr>\n",
       "    <tr>\n",
       "      <th>4</th>\n",
       "      <td>part today making cooperate ayanokouji first t...</td>\n",
       "    </tr>\n",
       "  </tbody>\n",
       "</table>\n",
       "</div>"
      ],
      "text/plain": [
       "                                          Clean_Text\n",
       "0  sazae syndrome wonder heard word explain simpl...\n",
       "1  part special exam first thing comes mind upon ...\n",
       "2  part lot time think japanese people tolerant r...\n",
       "3  part began sudden incident clock evening certa...\n",
       "4  part today making cooperate ayanokouji first t..."
      ]
     },
     "execution_count": 21,
     "metadata": {},
     "output_type": "execute_result"
    }
   ],
   "source": [
    "#Selecting Clean Text only\n",
    "df_Pretrain = df_Pretrain[[\"Clean_Text\"]]\n",
    "df_Pretrain.head()"
   ]
  },
  {
   "cell_type": "markdown",
   "id": "e3df7f39",
   "metadata": {},
   "source": [
    "## Pretraining Data: Gutenberg Selection"
   ]
  },
  {
   "cell_type": "code",
   "execution_count": 22,
   "id": "66cf0940",
   "metadata": {},
   "outputs": [
    {
     "data": {
      "text/html": [
       "<div>\n",
       "<style scoped>\n",
       "    .dataframe tbody tr th:only-of-type {\n",
       "        vertical-align: middle;\n",
       "    }\n",
       "\n",
       "    .dataframe tbody tr th {\n",
       "        vertical-align: top;\n",
       "    }\n",
       "\n",
       "    .dataframe thead th {\n",
       "        text-align: right;\n",
       "    }\n",
       "</style>\n",
       "<table border=\"1\" class=\"dataframe\">\n",
       "  <thead>\n",
       "    <tr style=\"text-align: right;\">\n",
       "      <th></th>\n",
       "      <th>Filename</th>\n",
       "      <th>Author</th>\n",
       "      <th>Title</th>\n",
       "      <th>Text</th>\n",
       "    </tr>\n",
       "  </thead>\n",
       "  <tbody>\n",
       "    <tr>\n",
       "      <th>0</th>\n",
       "      <td>PG24025_tokens</td>\n",
       "      <td>Angela Brazil</td>\n",
       "      <td>The New Girl at St. Chad's: A Story of School ...</td>\n",
       "      <td>illustration a chance for retaliation transcri...</td>\n",
       "    </tr>\n",
       "    <tr>\n",
       "      <th>1</th>\n",
       "      <td>PG21687_tokens</td>\n",
       "      <td>Angela Brazil</td>\n",
       "      <td>The Youngest Girl in the Fifth: A School Story</td>\n",
       "      <td>online distributed proofreading team at http i...</td>\n",
       "    </tr>\n",
       "    <tr>\n",
       "      <th>2</th>\n",
       "      <td>PG21656_tokens</td>\n",
       "      <td>Angela Brazil</td>\n",
       "      <td>The Princess of the School</td>\n",
       "      <td>illustration i come to say to you sis the prin...</td>\n",
       "    </tr>\n",
       "    <tr>\n",
       "      <th>3</th>\n",
       "      <td>PG18505_tokens</td>\n",
       "      <td>Angela Brazil</td>\n",
       "      <td>A Popular Schoolgirl</td>\n",
       "      <td>online distributed proofreading team http note...</td>\n",
       "    </tr>\n",
       "    <tr>\n",
       "      <th>4</th>\n",
       "      <td>PG18019_tokens</td>\n",
       "      <td>Angela Brazil</td>\n",
       "      <td>The Luckiest Girl in the School</td>\n",
       "      <td>online distributed proofreading team http note...</td>\n",
       "    </tr>\n",
       "  </tbody>\n",
       "</table>\n",
       "</div>"
      ],
      "text/plain": [
       "         Filename         Author  \\\n",
       "0  PG24025_tokens  Angela Brazil   \n",
       "1  PG21687_tokens  Angela Brazil   \n",
       "2  PG21656_tokens  Angela Brazil   \n",
       "3  PG18505_tokens  Angela Brazil   \n",
       "4  PG18019_tokens  Angela Brazil   \n",
       "\n",
       "                                               Title  \\\n",
       "0  The New Girl at St. Chad's: A Story of School ...   \n",
       "1     The Youngest Girl in the Fifth: A School Story   \n",
       "2                         The Princess of the School   \n",
       "3                               A Popular Schoolgirl   \n",
       "4                    The Luckiest Girl in the School   \n",
       "\n",
       "                                                Text  \n",
       "0  illustration a chance for retaliation transcri...  \n",
       "1  online distributed proofreading team at http i...  \n",
       "2  illustration i come to say to you sis the prin...  \n",
       "3  online distributed proofreading team http note...  \n",
       "4  online distributed proofreading team http note...  "
      ]
     },
     "execution_count": 22,
     "metadata": {},
     "output_type": "execute_result"
    }
   ],
   "source": [
    "#Defining the Project Gutenberg, School Stories Bookshelf pretraining data\n",
    "data_path_gutenberg = \"C:/Users/morin/OneDrive/Documents/School/CLS-Classroom_of_the_Elite/Presentation/TrainingData/School_Stories(Bookshelf)_gutenberg.txt\"\n",
    "\n",
    "df_gutenberg_selection = pd.read_csv(data_path_gutenberg, sep = \"\\t\", encoding = \"UTF-8\")\n",
    "\n",
    "df_gutenberg_selection.head()"
   ]
  },
  {
   "cell_type": "code",
   "execution_count": 23,
   "id": "0b915352",
   "metadata": {},
   "outputs": [
    {
     "data": {
      "text/html": [
       "<div>\n",
       "<style scoped>\n",
       "    .dataframe tbody tr th:only-of-type {\n",
       "        vertical-align: middle;\n",
       "    }\n",
       "\n",
       "    .dataframe tbody tr th {\n",
       "        vertical-align: top;\n",
       "    }\n",
       "\n",
       "    .dataframe thead th {\n",
       "        text-align: right;\n",
       "    }\n",
       "</style>\n",
       "<table border=\"1\" class=\"dataframe\">\n",
       "  <thead>\n",
       "    <tr style=\"text-align: right;\">\n",
       "      <th></th>\n",
       "      <th>Text</th>\n",
       "    </tr>\n",
       "  </thead>\n",
       "  <tbody>\n",
       "    <tr>\n",
       "      <th>0</th>\n",
       "      <td>illustration a chance for retaliation transcri...</td>\n",
       "    </tr>\n",
       "    <tr>\n",
       "      <th>1</th>\n",
       "      <td>online distributed proofreading team at http i...</td>\n",
       "    </tr>\n",
       "    <tr>\n",
       "      <th>2</th>\n",
       "      <td>illustration i come to say to you sis the prin...</td>\n",
       "    </tr>\n",
       "    <tr>\n",
       "      <th>3</th>\n",
       "      <td>online distributed proofreading team http note...</td>\n",
       "    </tr>\n",
       "    <tr>\n",
       "      <th>4</th>\n",
       "      <td>online distributed proofreading team http note...</td>\n",
       "    </tr>\n",
       "  </tbody>\n",
       "</table>\n",
       "</div>"
      ],
      "text/plain": [
       "                                                Text\n",
       "0  illustration a chance for retaliation transcri...\n",
       "1  online distributed proofreading team at http i...\n",
       "2  illustration i come to say to you sis the prin...\n",
       "3  online distributed proofreading team http note...\n",
       "4  online distributed proofreading team http note..."
      ]
     },
     "execution_count": 23,
     "metadata": {},
     "output_type": "execute_result"
    }
   ],
   "source": [
    "df_gutenberg_selection = df_gutenberg_selection[['Text']]\n",
    "df_gutenberg_selection.head()"
   ]
  },
  {
   "cell_type": "code",
   "execution_count": 24,
   "id": "18edb137",
   "metadata": {},
   "outputs": [
    {
     "data": {
      "text/plain": [
       "0"
      ]
     },
     "execution_count": 24,
     "metadata": {},
     "output_type": "execute_result"
    }
   ],
   "source": [
    "#Checking for missing data\n",
    "df_gutenberg_selection['Text'].isnull().sum()"
   ]
  },
  {
   "cell_type": "code",
   "execution_count": 25,
   "id": "a403d147",
   "metadata": {},
   "outputs": [
    {
     "data": {
      "text/plain": [
       "23"
      ]
     },
     "execution_count": 25,
     "metadata": {},
     "output_type": "execute_result"
    }
   ],
   "source": [
    "DocLen_gutenberg_selection = len(df_gutenberg_selection) #23 documents\n",
    "DocLen_gutenberg_selection"
   ]
  },
  {
   "cell_type": "code",
   "execution_count": 26,
   "id": "79dfc600",
   "metadata": {},
   "outputs": [
    {
     "data": {
      "text/plain": [
       "1402919"
      ]
     },
     "execution_count": 26,
     "metadata": {},
     "output_type": "execute_result"
    }
   ],
   "source": [
    "df_gutenberg_selection['tokencount'] = df_gutenberg_selection[\"Text\"].apply(count_tokens)\n",
    "TokenCount_gutenberg_selection = sum(df_gutenberg_selection['tokencount'])\n",
    "TokenCount_gutenberg_selection"
   ]
  },
  {
   "cell_type": "code",
   "execution_count": 27,
   "id": "bb57cbd0",
   "metadata": {},
   "outputs": [
    {
     "data": {
      "text/plain": [
       "0    illustration chance retaliation transcriber no...\n",
       "1    online distributed proofreading team http illu...\n",
       "2    illustration come say sis princess school ange...\n",
       "3    online distributed proofreading team http note...\n",
       "4    online distributed proofreading team http note...\n",
       "Name: Clean_Text, dtype: object"
      ]
     },
     "execution_count": 27,
     "metadata": {},
     "output_type": "execute_result"
    }
   ],
   "source": [
    "#Removing punctuation and stopwords\n",
    "\n",
    "df_gutenberg_selection['Clean_Text'] = df_gutenberg_selection.Text.apply(clean_text)\n",
    "df_gutenberg_selection['Clean_Text'].head()"
   ]
  },
  {
   "cell_type": "code",
   "execution_count": 28,
   "id": "81117efa",
   "metadata": {},
   "outputs": [
    {
     "data": {
      "text/html": [
       "<div>\n",
       "<style scoped>\n",
       "    .dataframe tbody tr th:only-of-type {\n",
       "        vertical-align: middle;\n",
       "    }\n",
       "\n",
       "    .dataframe tbody tr th {\n",
       "        vertical-align: top;\n",
       "    }\n",
       "\n",
       "    .dataframe thead th {\n",
       "        text-align: right;\n",
       "    }\n",
       "</style>\n",
       "<table border=\"1\" class=\"dataframe\">\n",
       "  <thead>\n",
       "    <tr style=\"text-align: right;\">\n",
       "      <th></th>\n",
       "      <th>Clean_Text</th>\n",
       "    </tr>\n",
       "  </thead>\n",
       "  <tbody>\n",
       "    <tr>\n",
       "      <th>0</th>\n",
       "      <td>illustration chance retaliation transcriber no...</td>\n",
       "    </tr>\n",
       "    <tr>\n",
       "      <th>1</th>\n",
       "      <td>online distributed proofreading team http illu...</td>\n",
       "    </tr>\n",
       "    <tr>\n",
       "      <th>2</th>\n",
       "      <td>illustration come say sis princess school ange...</td>\n",
       "    </tr>\n",
       "    <tr>\n",
       "      <th>3</th>\n",
       "      <td>online distributed proofreading team http note...</td>\n",
       "    </tr>\n",
       "    <tr>\n",
       "      <th>4</th>\n",
       "      <td>online distributed proofreading team http note...</td>\n",
       "    </tr>\n",
       "  </tbody>\n",
       "</table>\n",
       "</div>"
      ],
      "text/plain": [
       "                                          Clean_Text\n",
       "0  illustration chance retaliation transcriber no...\n",
       "1  online distributed proofreading team http illu...\n",
       "2  illustration come say sis princess school ange...\n",
       "3  online distributed proofreading team http note...\n",
       "4  online distributed proofreading team http note..."
      ]
     },
     "execution_count": 28,
     "metadata": {},
     "output_type": "execute_result"
    }
   ],
   "source": [
    "df_gutenberg_selection = df_gutenberg_selection[['Clean_Text']]\n",
    "df_gutenberg_selection.head()"
   ]
  },
  {
   "cell_type": "markdown",
   "id": "4eefd3ff",
   "metadata": {},
   "source": [
    "## Pretraining Data: Merge"
   ]
  },
  {
   "cell_type": "code",
   "execution_count": 29,
   "id": "0aba4994",
   "metadata": {},
   "outputs": [
    {
     "name": "stderr",
     "output_type": "stream",
     "text": [
      "C:\\Users\\morin\\AppData\\Local\\Temp\\ipykernel_11236\\2970083254.py:2: FutureWarning: The frame.append method is deprecated and will be removed from pandas in a future version. Use pandas.concat instead.\n",
      "  df_pretrain = df_Pretrain.append(df_gutenberg_selection, ignore_index=True)\n"
     ]
    },
    {
     "data": {
      "text/html": [
       "<div>\n",
       "<style scoped>\n",
       "    .dataframe tbody tr th:only-of-type {\n",
       "        vertical-align: middle;\n",
       "    }\n",
       "\n",
       "    .dataframe tbody tr th {\n",
       "        vertical-align: top;\n",
       "    }\n",
       "\n",
       "    .dataframe thead th {\n",
       "        text-align: right;\n",
       "    }\n",
       "</style>\n",
       "<table border=\"1\" class=\"dataframe\">\n",
       "  <thead>\n",
       "    <tr style=\"text-align: right;\">\n",
       "      <th></th>\n",
       "      <th>Clean_Text</th>\n",
       "    </tr>\n",
       "  </thead>\n",
       "  <tbody>\n",
       "    <tr>\n",
       "      <th>0</th>\n",
       "      <td>sazae syndrome wonder heard word explain simpl...</td>\n",
       "    </tr>\n",
       "    <tr>\n",
       "      <th>1</th>\n",
       "      <td>part special exam first thing comes mind upon ...</td>\n",
       "    </tr>\n",
       "    <tr>\n",
       "      <th>2</th>\n",
       "      <td>part lot time think japanese people tolerant r...</td>\n",
       "    </tr>\n",
       "    <tr>\n",
       "      <th>3</th>\n",
       "      <td>part began sudden incident clock evening certa...</td>\n",
       "    </tr>\n",
       "    <tr>\n",
       "      <th>4</th>\n",
       "      <td>part today making cooperate ayanokouji first t...</td>\n",
       "    </tr>\n",
       "    <tr>\n",
       "      <th>...</th>\n",
       "      <td>...</td>\n",
       "    </tr>\n",
       "    <tr>\n",
       "      <th>79</th>\n",
       "      <td>little men life plumfield jo boy louisa may al...</td>\n",
       "    </tr>\n",
       "    <tr>\n",
       "      <th>80</th>\n",
       "      <td>etext prepared thomas nelson sons edition tom ...</td>\n",
       "    </tr>\n",
       "    <tr>\n",
       "      <th>81</th>\n",
       "      <td>jean webster copyright century company blue we...</td>\n",
       "    </tr>\n",
       "    <tr>\n",
       "      <th>82</th>\n",
       "      <td>little princess frances hodgson burnett little...</td>\n",
       "    </tr>\n",
       "    <tr>\n",
       "      <th>83</th>\n",
       "      <td>sara crewe happened miss frances hodgson burne...</td>\n",
       "    </tr>\n",
       "  </tbody>\n",
       "</table>\n",
       "<p>84 rows × 1 columns</p>\n",
       "</div>"
      ],
      "text/plain": [
       "                                           Clean_Text\n",
       "0   sazae syndrome wonder heard word explain simpl...\n",
       "1   part special exam first thing comes mind upon ...\n",
       "2   part lot time think japanese people tolerant r...\n",
       "3   part began sudden incident clock evening certa...\n",
       "4   part today making cooperate ayanokouji first t...\n",
       "..                                                ...\n",
       "79  little men life plumfield jo boy louisa may al...\n",
       "80  etext prepared thomas nelson sons edition tom ...\n",
       "81  jean webster copyright century company blue we...\n",
       "82  little princess frances hodgson burnett little...\n",
       "83  sara crewe happened miss frances hodgson burne...\n",
       "\n",
       "[84 rows x 1 columns]"
      ]
     },
     "execution_count": 29,
     "metadata": {},
     "output_type": "execute_result"
    }
   ],
   "source": [
    "#Combining pretraining data (1) CotE Bonus Chapters, Afterwords and subvolumes with (2) Project Gutenberg, School Stories Bookshelf\n",
    "df_pretrain = df_Pretrain.append(df_gutenberg_selection, ignore_index=True)\n",
    "df_pretrain"
   ]
  },
  {
   "cell_type": "code",
   "execution_count": 30,
   "id": "21ee690c",
   "metadata": {},
   "outputs": [
    {
     "data": {
      "text/plain": [
       "1596096"
      ]
     },
     "execution_count": 30,
     "metadata": {},
     "output_type": "execute_result"
    }
   ],
   "source": [
    "TokenCountPretrain + TokenCount_gutenberg_selection #1,596,096 tokens #CotE = 193,177 #GutenbergSelection = 1,402,919"
   ]
  },
  {
   "cell_type": "code",
   "execution_count": 31,
   "id": "66b30135",
   "metadata": {},
   "outputs": [
    {
     "data": {
      "text/plain": [
       "84"
      ]
     },
     "execution_count": 31,
     "metadata": {},
     "output_type": "execute_result"
    }
   ],
   "source": [
    "DocLenPretrain + DocLen_gutenberg_selection #84 documents #CotE = 61 #GutenbergSelection = 23"
   ]
  },
  {
   "cell_type": "markdown",
   "id": "489272ae",
   "metadata": {},
   "source": [
    "## Pretraining Non-Negative Matrix Factorization (NMF) with Pretrain Data"
   ]
  },
  {
   "cell_type": "markdown",
   "id": "7f8b2c4e",
   "metadata": {},
   "source": [
    "n_features = 10000 # number of most common words\n",
    "max_df = 0.47 # maximum document frequency, words should not appear in more than 40 per cent of the documents 34 documents\n",
    "min_df = 13 # minimum document frequency, words should appear in at least 13 out of 84 documents (15%) #CotE is 61 documents\n",
    "n_topics = 70 # number of topics\n",
    "\n",
    "n_top_words = 60 # number of characteristic words per topic (viz purposes only)"
   ]
  },
  {
   "cell_type": "code",
   "execution_count": 32,
   "id": "fe28029e",
   "metadata": {},
   "outputs": [],
   "source": [
    "n_features = 5000 # number of most common words\n",
    "max_df = 0.50 # maximum document frequency, words should not appear in more than 40 per cent of the documents 34 documents\n",
    "min_df = 9 # minimum document frequency, words should appear in at least 9 out of 84 documents (10%) #CotE is 61 documents\n",
    "n_topics = 75 # number of topics\n",
    "\n",
    "n_top_words = 60 # number of characteristic words per topic (viz purposes only)"
   ]
  },
  {
   "cell_type": "code",
   "execution_count": 33,
   "id": "83f3618e",
   "metadata": {},
   "outputs": [],
   "source": [
    "from sklearn.feature_extraction.text import CountVectorizer\n",
    "vectorizer = CountVectorizer(max_df=max_df, min_df=min_df,\n",
    "                             max_features=n_features)\n",
    "\n",
    "X = vectorizer.fit_transform(df_pretrain[\"Clean_Text\"])"
   ]
  },
  {
   "cell_type": "code",
   "execution_count": 34,
   "id": "67290138",
   "metadata": {},
   "outputs": [],
   "source": [
    "from sklearn.feature_extraction.text import TfidfTransformer\n",
    "transformer = TfidfTransformer()\n",
    "X_ = transformer.fit_transform(X)"
   ]
  },
  {
   "cell_type": "code",
   "execution_count": 35,
   "id": "978572a7",
   "metadata": {},
   "outputs": [
    {
     "name": "stderr",
     "output_type": "stream",
     "text": [
      "C:\\Users\\morin\\anaconda3\\lib\\site-packages\\sklearn\\decomposition\\_nmf.py:289: FutureWarning: The 'init' value, when 'init=None' and n_components is less than n_samples and n_features, will be changed from 'nndsvd' to 'nndsvda' in 1.1 (renaming of 0.26).\n",
      "  warnings.warn(\n"
     ]
    },
    {
     "name": "stdout",
     "output_type": "stream",
     "text": [
      "violation: 1.0\n",
      "violation: 0.2822081849926561\n",
      "violation: 0.20654299295993767\n",
      "violation: 0.1526110216415462\n",
      "violation: 0.10130593210234186\n",
      "violation: 0.07324933689512145\n",
      "violation: 0.054117811751901494\n",
      "violation: 0.04014014473627597\n",
      "violation: 0.030766266549172496\n",
      "violation: 0.02566803993144675\n",
      "violation: 0.021224169133926288\n",
      "violation: 0.017184854114910615\n",
      "violation: 0.014342229711852865\n",
      "violation: 0.012222570115060706\n",
      "violation: 0.010577642814282504\n",
      "violation: 0.00906359444701099\n",
      "violation: 0.008063739628025918\n",
      "violation: 0.007389795722006527\n",
      "violation: 0.006918409028751915\n",
      "violation: 0.00659502869915489\n",
      "violation: 0.006329410682421396\n",
      "violation: 0.0060218310368926505\n",
      "violation: 0.005691601679648679\n",
      "violation: 0.00539662266628961\n",
      "violation: 0.0051327992735853275\n",
      "violation: 0.004871516134204625\n",
      "violation: 0.004647262030182518\n",
      "violation: 0.00441360619453015\n",
      "violation: 0.004183301580666257\n",
      "violation: 0.00399173371193578\n",
      "violation: 0.0038254440369421662\n",
      "violation: 0.003681669021572876\n",
      "violation: 0.0036315152909872097\n",
      "violation: 0.0037141055510644698\n",
      "violation: 0.004013676939712736\n",
      "violation: 0.0046028381145989\n",
      "violation: 0.0056133442742688005\n",
      "violation: 0.0071569839578379795\n",
      "violation: 0.008958030672215277\n",
      "violation: 0.009213402958687849\n",
      "violation: 0.007311075855668074\n",
      "violation: 0.005096381130894797\n",
      "violation: 0.0038323759080016273\n",
      "violation: 0.0031268500495186284\n",
      "violation: 0.002641715804495018\n",
      "violation: 0.002393296651851812\n",
      "violation: 0.0022022641748589604\n",
      "violation: 0.001966453888418939\n",
      "violation: 0.0017952835126742838\n",
      "violation: 0.0016517937658565203\n",
      "violation: 0.0016142513118100566\n",
      "violation: 0.0017104717002321035\n",
      "violation: 0.0019551866898534997\n",
      "violation: 0.002403899162392093\n",
      "violation: 0.0031317969668528548\n",
      "violation: 0.004286164132991595\n",
      "violation: 0.0055165921192223575\n",
      "violation: 0.00707074710112672\n",
      "violation: 0.007387647369788306\n",
      "violation: 0.006208585482899732\n",
      "violation: 0.004239279041546281\n",
      "violation: 0.0029054218021486275\n",
      "violation: 0.0020066017445477704\n",
      "violation: 0.0014116206172606084\n",
      "violation: 0.0010228968268833534\n",
      "violation: 0.0007356864395296318\n",
      "violation: 0.0005466146749257151\n",
      "violation: 0.0004203512252008388\n",
      "violation: 0.0003106716873500119\n",
      "violation: 0.00023648248714498021\n",
      "violation: 0.00018858971865065127\n",
      "violation: 0.00015578023016531116\n",
      "violation: 0.0001316359741429153\n",
      "violation: 0.00011386706057004236\n",
      "violation: 9.996324023837033e-05\n",
      "Converged at iteration 76\n"
     ]
    }
   ],
   "source": [
    "from sklearn.decomposition import NMF\n",
    "nmf = NMF(n_components=n_topics,\n",
    "          random_state=RND,\n",
    "          verbose=10, max_iter=100).fit(X_) # fit NMF model with TF-IDF features"
   ]
  },
  {
   "cell_type": "code",
   "execution_count": 36,
   "id": "7abeb87a",
   "metadata": {
    "scrolled": true
   },
   "outputs": [
    {
     "name": "stdout",
     "output_type": "stream",
     "text": [
      "topic 0: study - man - league - house - ye - bat - mill - door - match - play\n",
      "topic 1: ichinose - ryuuen - points - relationship - lost - elevator - strategy - exam - classmates - mall\n",
      "topic 2: miss - child - indian - gentleman - princess - hungry - door - monkey - papa - attic\n",
      "topic 3: kiyotaka - date - love - double - ahh - hirata - calling - inside - realized - romance\n",
      "topic 4: senpai - ayanokouji - beach - win - flag - wash - miss - staring - water - victory\n",
      "topic 5: pages - social - dull - months - write - writing - main - finished - completely - skills\n",
      "topic 6: sudou - ike - yamauchi - council - birthday - kushida - pool - present - points - president\n",
      "topic 7: ayanokouji - invite - join - group - force - attracting - solo - encourage - escaping - predicted\n",
      "topic 8: karuizawa - nagumo - hirata - date - president - council - double - christmas - senpai - st\n",
      "topic 9: boy - particularly - accept - ayanokouji - assisted - yamauchi - inner - breaks - expel - kiyotaka\n",
      "topic 10: brother - mirror - self - sister - relationship - imitation - spent - real - alright - grasped\n",
      "topic 11: vacation - books - spring - inviting - sex - somewhat - opposite - brought - ayanokouji - disappoint\n",
      "topic 12: eh - relationship - joke - kiyotaka - kei - love - okay - karuizawa - boy - hirata\n",
      "topic 13: grace - miss - gray - exclaimed - old - principal - play - boy - shall - toward\n",
      "topic 14: release - book - event - number - memorable - kinugasa - official - standard - reader - growth\n",
      "topic 15: flow - points - exam - serious - potential - kinugasa - published - regularly - belief - release\n",
      "topic 16: pages - page - limit - hello - alright - write - permit - kinugasa - dying - struggling\n",
      "topic 17: hair - image - kushida - sudou - love - resolution - cutting - weird - yeah - surprise\n",
      "topic 18: water - kushida - bottle - elevator - floor - phone - arm - emergency - th - towel\n",
      "topic 19: sakayanagi - points - sensei - ceremony - teachers - graduation - ryuuen - exam - phone - elder\n",
      "topic 20: solo - realised - shoulder - worry - ayanokouji - achieve - factor - uninhabited - goals - shield\n",
      "topic 21: study - points - studying - serious - boyfriend - impressive - expelled - hey - score - revealed\n",
      "topic 22: exam - settle - results - votes - freely - thus - conclusion - points - ayanokouji - certainly\n",
      "topic 23: dick - tom - boy - hall - captain - cried - answered - man - oh - bully\n",
      "topic 24: flower - beside - tree - trees - sit - sitting - spring - spot - ayanokouji - prohibited\n",
      "topic 25: ayanokouji - cold - deciding - topic - ah - greeting - march - flow - weather - self\n",
      "topic 26: flash - questions - ayanokouji - event - national - level - leader - stay - information - followed\n",
      "topic 27: lovers - window - precious - spending - christmas - promised - fall - date - enrolled - th\n",
      "topic 28: ayanokouji - receive - th - spot - ichinose - island - arrival - approaching - enemy - task\n",
      "topic 29: shaped - present - gift - heavy - kiyotaka - confessed - fit - later - tide - birthday\n",
      "topic 30: yamauchi - letter - confession - umm - ayanokouji - ahh - rain - yeah - kushida - love\n",
      "topic 31: sleep - love - pillow - sweet - laughter - sounds - dream - hours - excited - within\n",
      "topic 32: nd - release - write - writing - accumulated - achieve - sale - frustrated - kinugasa - readers\n",
      "topic 33: ike - ryuuen - break - mall - kei - wins - surveillance - books - relationship - strategy\n",
      "topic 34: kinugasa - characters - ayanokouji - extra - drawing - men - exam - continue - relying - humbly\n",
      "topic 35: society - age - vacation - despair - bound - born - summer - chances - passed - play\n",
      "topic 36: senpai - guess - shopping - store - pay - normal - noticed - ayanokouji - dig - trailing\n",
      "topic 37: months - importantly - reliable - kinugasa - refrain - initial - festival - readers - sincerely - acts\n",
      "topic 38: house - boxing - man - town - boat - round - study - headmaster - team - hullo\n",
      "topic 39: fortune - elevator - telling - sudou - floor - asks - invite - button - buttons - phone\n",
      "topic 40: honor - miss - house - home - shall - round - college - whole - oh - old\n",
      "topic 41: release - senior - fingers - chair - space - date - shall - whole - halt - umm\n",
      "topic 42: appear - cooperation - kinugasa - gas - manuscript - kiyotaka - follows - furthermore - hello - st\n",
      "topic 43: drive - recently - battle - information - hope - aspects - needless - blankly - buttons - flies\n",
      "topic 44: ayanokouji - leaders - dream - coincidence - teachers - exam - abilities - fate - limited - maiden\n",
      "topic 45: hours - months - harder - feels - stay - exam - continue - novels - include - boast\n",
      "topic 46: trusting - karuizawa - ayanokouji - trust - kiyotaka - scared - existence - walking - exam - answered\n",
      "topic 47: senpai - climbing - catch - definitely - ayanokouji - accord - fearing - amounted - obstacle - rocky\n",
      "topic 48: ayanokouji - boy - amazing - cup - formidable - festival - hirata - chocolate - furthermore - cautious\n",
      "topic 49: vacation - spring - worry - okay - losing - unlike - final - often - happens - line\n",
      "topic 50: holidays - ryuuen - stories - winter - release - volumes - collection - grateful - months - main\n",
      "topic 51: ayanokouji - white - ability - ike - karuizawa - hirata - man - evaluation - father - definitely\n",
      "topic 52: kei - relationship - confession - love - huh - rate - probability - liked - success - learning\n",
      "topic 53: dorm - cute - door - nd - senpai - karuizawa - arrows - headed - floor - emergency\n",
      "topic 54: council - nagumo - brother - join - president - suzune - realised - enter - surely - acknowledge\n",
      "topic 55: boy - daisy - old - mother - poor - cried - great - round - dear - shall\n",
      "topic 56: senpai - ayanokouji - answering - partners - okay - shall - partner - expecting - unknown - suggested\n",
      "topic 57: sakayanagi - crush - ryuuen - ichinose - expel - methods - victory - ayanokouji - strike - stupid\n",
      "topic 58: dear - college - letter - home - shall - john - write - man - awfully - family\n",
      "topic 59: rose - papa - miss - jane - page - oh - cried - home - cousin - dear\n",
      "topic 60: thomas - scott - house - lines - cook - tea - hundred - trust - boy - bed\n",
      "topic 61: kei - phone - tomorrow - kiyotaka - relationship - girlfriend - boyfriend - stuff - topics - confession\n",
      "topic 62: elder - brother - nagumo - sister - points - evaluation - suzune - entrance - system - hair\n",
      "topic 63: changing - ike - car - peeping - pool - sudou - ichinose - kushida - vent - karuizawa\n",
      "topic 64: sakayanagi - ichinose - ryuuen - watch - theater - huh - ayanokouji - gaze - opponent - simply\n",
      "topic 65: house - silver - man - camp - door - study - round - team - cup - began\n",
      "topic 66: tom - boy - east - old - young - doctor - great - master - brown - round\n",
      "topic 67: ryuuen - nagumo - council - older - points - million - strategy - snow - st - president\n",
      "topic 68: senpai - understood - detail - human - ayanokouji - eyebrows - convince - retreat - cooperate - muttered\n",
      "topic 69: miss - mother - dear - church - aunt - oh - old - irish - great - lady\n",
      "topic 70: smith - cricket - house - comrade - robinson - stone - boy - door - man - headmaster\n",
      "topic 71: sensei - reception - ayanokouji - sakayanagi - permission - ceremony - enjoy - classroom - predict - finer\n",
      "topic 72: man - house - study - cups - ward - mutual - mile - boy - robinson - round\n",
      "topic 73: man - match - house - ball - cricket - team - uncle - headmaster - game - wicket\n",
      "topic 74: miss - form - home - aunt - shall - oh - round - car - old - whole\n"
     ]
    }
   ],
   "source": [
    "#Visualisation of Pretraining Topics\n",
    "\n",
    "for topic_idx, topic in enumerate(nmf.components_):\n",
    "    top_idxs = np.argsort(topic)[::-1][:10]\n",
    "    top_words = np.array(vectorizer.get_feature_names_out())[top_idxs] # get words that correspond to topic_idxs\n",
    "    print(f'topic {topic_idx}:', ' - '.join(top_words))"
   ]
  },
  {
   "cell_type": "code",
   "execution_count": 37,
   "id": "258e3693",
   "metadata": {},
   "outputs": [
    {
     "name": "stdout",
     "output_type": "stream",
     "text": [
      "violation: 1.0\n",
      "violation: 0.7805638107588856\n",
      "violation: 0.13763044461761978\n",
      "violation: 0.036475273954004045\n",
      "violation: 0.011694338616893124\n",
      "violation: 0.005035120186977355\n",
      "violation: 0.002950430764849585\n",
      "violation: 0.0018750065075244888\n",
      "violation: 0.0012205654107530666\n",
      "violation: 0.0007398426917216482\n",
      "violation: 0.00044456361331803804\n",
      "violation: 0.00027495253301889244\n",
      "violation: 0.00020257006133153884\n",
      "violation: 0.0001366706423474822\n",
      "violation: 8.880386775220922e-05\n",
      "Converged at iteration 16\n",
      "(84, 75)\n"
     ]
    }
   ],
   "source": [
    "vocabulary = vectorizer.get_feature_names_out()\n",
    "\n",
    "topic_names = [f'Topic {k+1}' for k in range(n_topics)]\n",
    "\n",
    "scores = nmf.transform(transformer.transform(vectorizer.transform(df_pretrain[\"Clean_Text\"])))\n",
    "print(scores.shape)"
   ]
  },
  {
   "cell_type": "code",
   "execution_count": 38,
   "id": "efd4d235",
   "metadata": {},
   "outputs": [
    {
     "data": {
      "text/html": [
       "<div>\n",
       "<style scoped>\n",
       "    .dataframe tbody tr th:only-of-type {\n",
       "        vertical-align: middle;\n",
       "    }\n",
       "\n",
       "    .dataframe tbody tr th {\n",
       "        vertical-align: top;\n",
       "    }\n",
       "\n",
       "    .dataframe thead th {\n",
       "        text-align: right;\n",
       "    }\n",
       "</style>\n",
       "<table border=\"1\" class=\"dataframe\">\n",
       "  <thead>\n",
       "    <tr style=\"text-align: right;\">\n",
       "      <th></th>\n",
       "      <th>aback</th>\n",
       "      <th>abandoned</th>\n",
       "      <th>abilities</th>\n",
       "      <th>ability</th>\n",
       "      <th>abominable</th>\n",
       "      <th>abreast</th>\n",
       "      <th>abroad</th>\n",
       "      <th>abrupt</th>\n",
       "      <th>abruptly</th>\n",
       "      <th>absence</th>\n",
       "      <th>...</th>\n",
       "      <th>yesterday</th>\n",
       "      <th>yield</th>\n",
       "      <th>yielded</th>\n",
       "      <th>york</th>\n",
       "      <th>young</th>\n",
       "      <th>younger</th>\n",
       "      <th>youngest</th>\n",
       "      <th>youth</th>\n",
       "      <th>youths</th>\n",
       "      <th>zeal</th>\n",
       "    </tr>\n",
       "  </thead>\n",
       "  <tbody>\n",
       "    <tr>\n",
       "      <th>Topic 1</th>\n",
       "      <td>0.013405</td>\n",
       "      <td>0.000012</td>\n",
       "      <td>0.009732</td>\n",
       "      <td>0.000000</td>\n",
       "      <td>0.024676</td>\n",
       "      <td>0.0</td>\n",
       "      <td>0.000000</td>\n",
       "      <td>0.000000</td>\n",
       "      <td>0.0</td>\n",
       "      <td>0.028461</td>\n",
       "      <td>...</td>\n",
       "      <td>0.030431</td>\n",
       "      <td>0.011637</td>\n",
       "      <td>0.012873</td>\n",
       "      <td>0.000000</td>\n",
       "      <td>0.089978</td>\n",
       "      <td>0.000000</td>\n",
       "      <td>0.000000</td>\n",
       "      <td>0.092167</td>\n",
       "      <td>0.066925</td>\n",
       "      <td>0.013361</td>\n",
       "    </tr>\n",
       "    <tr>\n",
       "      <th>Topic 2</th>\n",
       "      <td>0.000000</td>\n",
       "      <td>0.000000</td>\n",
       "      <td>0.168145</td>\n",
       "      <td>0.219638</td>\n",
       "      <td>0.000000</td>\n",
       "      <td>0.0</td>\n",
       "      <td>0.000004</td>\n",
       "      <td>0.000000</td>\n",
       "      <td>0.0</td>\n",
       "      <td>0.000733</td>\n",
       "      <td>...</td>\n",
       "      <td>0.000000</td>\n",
       "      <td>0.008816</td>\n",
       "      <td>0.000000</td>\n",
       "      <td>0.000000</td>\n",
       "      <td>0.000000</td>\n",
       "      <td>0.000000</td>\n",
       "      <td>0.000000</td>\n",
       "      <td>0.044962</td>\n",
       "      <td>0.000000</td>\n",
       "      <td>0.000000</td>\n",
       "    </tr>\n",
       "    <tr>\n",
       "      <th>Topic 3</th>\n",
       "      <td>0.000000</td>\n",
       "      <td>0.000000</td>\n",
       "      <td>0.000000</td>\n",
       "      <td>0.000231</td>\n",
       "      <td>0.000000</td>\n",
       "      <td>0.0</td>\n",
       "      <td>0.000000</td>\n",
       "      <td>0.000169</td>\n",
       "      <td>0.0</td>\n",
       "      <td>0.000000</td>\n",
       "      <td>...</td>\n",
       "      <td>0.005104</td>\n",
       "      <td>0.000000</td>\n",
       "      <td>0.000000</td>\n",
       "      <td>0.000000</td>\n",
       "      <td>0.114829</td>\n",
       "      <td>0.008136</td>\n",
       "      <td>0.007068</td>\n",
       "      <td>0.000000</td>\n",
       "      <td>0.000000</td>\n",
       "      <td>0.000000</td>\n",
       "    </tr>\n",
       "    <tr>\n",
       "      <th>Topic 4</th>\n",
       "      <td>0.000000</td>\n",
       "      <td>0.000000</td>\n",
       "      <td>0.000000</td>\n",
       "      <td>0.000000</td>\n",
       "      <td>0.000000</td>\n",
       "      <td>0.0</td>\n",
       "      <td>0.000000</td>\n",
       "      <td>0.000000</td>\n",
       "      <td>0.0</td>\n",
       "      <td>0.000000</td>\n",
       "      <td>...</td>\n",
       "      <td>0.053718</td>\n",
       "      <td>0.000000</td>\n",
       "      <td>0.000000</td>\n",
       "      <td>0.000000</td>\n",
       "      <td>0.000000</td>\n",
       "      <td>0.000000</td>\n",
       "      <td>0.000000</td>\n",
       "      <td>0.000000</td>\n",
       "      <td>0.000000</td>\n",
       "      <td>0.000000</td>\n",
       "    </tr>\n",
       "    <tr>\n",
       "      <th>Topic 5</th>\n",
       "      <td>0.000000</td>\n",
       "      <td>0.000000</td>\n",
       "      <td>0.124371</td>\n",
       "      <td>0.001296</td>\n",
       "      <td>0.000000</td>\n",
       "      <td>0.0</td>\n",
       "      <td>0.000000</td>\n",
       "      <td>0.000000</td>\n",
       "      <td>0.0</td>\n",
       "      <td>0.000000</td>\n",
       "      <td>...</td>\n",
       "      <td>0.000000</td>\n",
       "      <td>0.000289</td>\n",
       "      <td>0.000000</td>\n",
       "      <td>0.000351</td>\n",
       "      <td>0.000000</td>\n",
       "      <td>0.000000</td>\n",
       "      <td>0.000000</td>\n",
       "      <td>0.000508</td>\n",
       "      <td>0.000000</td>\n",
       "      <td>0.000099</td>\n",
       "    </tr>\n",
       "  </tbody>\n",
       "</table>\n",
       "<p>5 rows × 5000 columns</p>\n",
       "</div>"
      ],
      "text/plain": [
       "            aback  abandoned  abilities   ability  abominable  abreast  \\\n",
       "Topic 1  0.013405   0.000012   0.009732  0.000000    0.024676      0.0   \n",
       "Topic 2  0.000000   0.000000   0.168145  0.219638    0.000000      0.0   \n",
       "Topic 3  0.000000   0.000000   0.000000  0.000231    0.000000      0.0   \n",
       "Topic 4  0.000000   0.000000   0.000000  0.000000    0.000000      0.0   \n",
       "Topic 5  0.000000   0.000000   0.124371  0.001296    0.000000      0.0   \n",
       "\n",
       "           abroad    abrupt  abruptly   absence  ...  yesterday     yield  \\\n",
       "Topic 1  0.000000  0.000000       0.0  0.028461  ...   0.030431  0.011637   \n",
       "Topic 2  0.000004  0.000000       0.0  0.000733  ...   0.000000  0.008816   \n",
       "Topic 3  0.000000  0.000169       0.0  0.000000  ...   0.005104  0.000000   \n",
       "Topic 4  0.000000  0.000000       0.0  0.000000  ...   0.053718  0.000000   \n",
       "Topic 5  0.000000  0.000000       0.0  0.000000  ...   0.000000  0.000289   \n",
       "\n",
       "          yielded      york     young   younger  youngest     youth    youths  \\\n",
       "Topic 1  0.012873  0.000000  0.089978  0.000000  0.000000  0.092167  0.066925   \n",
       "Topic 2  0.000000  0.000000  0.000000  0.000000  0.000000  0.044962  0.000000   \n",
       "Topic 3  0.000000  0.000000  0.114829  0.008136  0.007068  0.000000  0.000000   \n",
       "Topic 4  0.000000  0.000000  0.000000  0.000000  0.000000  0.000000  0.000000   \n",
       "Topic 5  0.000000  0.000351  0.000000  0.000000  0.000000  0.000508  0.000000   \n",
       "\n",
       "             zeal  \n",
       "Topic 1  0.013361  \n",
       "Topic 2  0.000000  \n",
       "Topic 3  0.000000  \n",
       "Topic 4  0.000000  \n",
       "Topic 5  0.000099  \n",
       "\n",
       "[5 rows x 5000 columns]"
      ]
     },
     "execution_count": 38,
     "metadata": {},
     "output_type": "execute_result"
    }
   ],
   "source": [
    "topic_word_distributions = pd.DataFrame(\n",
    "    nmf.components_, columns=vocabulary, index=topic_names)\n",
    "topic_word_distributions.head() #100 rows (topics) × 824 columns (vocabulary)"
   ]
  },
  {
   "cell_type": "markdown",
   "id": "60a3b6a0",
   "metadata": {},
   "source": [
    "## Visualising Pretraining Topics"
   ]
  },
  {
   "cell_type": "markdown",
   "id": "d1f74cd1",
   "metadata": {},
   "source": [
    "!pip install pyldavis"
   ]
  },
  {
   "cell_type": "markdown",
   "id": "15cb6723",
   "metadata": {},
   "source": [
    "import pyLDAvis\n",
    "pyLDAvis.enable_notebook()\n",
    "import pyLDAvis.sklearn\n",
    "\n",
    "#nmf.verbose = 10\n",
    "vis_nmf = pyLDAvis.sklearn.prepare(nmf, transformer.transform(vectorizer.transform(df_pretrain[\"Clean_Text\"])), vectorizer)\n",
    "vis_nmf"
   ]
  },
  {
   "cell_type": "markdown",
   "id": "95c0a235",
   "metadata": {},
   "source": [
    "## Applying the Pretrained NMF Model to the CotE Data"
   ]
  },
  {
   "cell_type": "code",
   "execution_count": 39,
   "id": "7d13eb52",
   "metadata": {},
   "outputs": [],
   "source": [
    "texts = []\n",
    "for element in df_Main[\"Clean_Text\"]:\n",
    "  texts.append(element)"
   ]
  },
  {
   "cell_type": "code",
   "execution_count": 40,
   "id": "689456d8",
   "metadata": {},
   "outputs": [
    {
     "name": "stdout",
     "output_type": "stream",
     "text": [
      "violation: 1.0\n",
      "violation: 0.6442361397847636\n",
      "violation: 0.1339551914699295\n",
      "violation: 0.05255888632483229\n",
      "violation: 0.02447949880445698\n",
      "violation: 0.012667225838792127\n",
      "violation: 0.007728933364954335\n",
      "violation: 0.004626586578641745\n",
      "violation: 0.0028608852654808553\n",
      "violation: 0.0017395352824163142\n",
      "violation: 0.001045682705218345\n",
      "violation: 0.0006391254888770188\n",
      "violation: 0.0003943528826724704\n",
      "violation: 0.00025343324348126766\n",
      "violation: 0.000170798786181565\n",
      "violation: 0.00012292433141681554\n",
      "violation: 8.970542819130663e-05\n",
      "Converged at iteration 18\n",
      "(145, 75)\n"
     ]
    }
   ],
   "source": [
    "scoresCotE = nmf.transform(transformer.transform(vectorizer.transform(texts)))\n",
    "print(scoresCotE.shape)"
   ]
  },
  {
   "cell_type": "code",
   "execution_count": 41,
   "id": "8c5f2c0b",
   "metadata": {
    "scrolled": true
   },
   "outputs": [
    {
     "data": {
      "text/html": [
       "<div>\n",
       "<style scoped>\n",
       "    .dataframe tbody tr th:only-of-type {\n",
       "        vertical-align: middle;\n",
       "    }\n",
       "\n",
       "    .dataframe tbody tr th {\n",
       "        vertical-align: top;\n",
       "    }\n",
       "\n",
       "    .dataframe thead th {\n",
       "        text-align: right;\n",
       "    }\n",
       "</style>\n",
       "<table border=\"1\" class=\"dataframe\">\n",
       "  <thead>\n",
       "    <tr style=\"text-align: right;\">\n",
       "      <th></th>\n",
       "      <th>ID</th>\n",
       "      <th>Volume</th>\n",
       "      <th>Volume_Type</th>\n",
       "      <th>Chapter_Type</th>\n",
       "      <th>Chapter_Num</th>\n",
       "      <th>PublishingDate_Original</th>\n",
       "      <th>Title</th>\n",
       "      <th>Text</th>\n",
       "      <th>Translator</th>\n",
       "      <th>Editor</th>\n",
       "      <th>...</th>\n",
       "      <th>t66</th>\n",
       "      <th>t67</th>\n",
       "      <th>t68</th>\n",
       "      <th>t69</th>\n",
       "      <th>t70</th>\n",
       "      <th>t71</th>\n",
       "      <th>t72</th>\n",
       "      <th>t73</th>\n",
       "      <th>t74</th>\n",
       "      <th>t75</th>\n",
       "    </tr>\n",
       "  </thead>\n",
       "  <tbody>\n",
       "    <tr>\n",
       "      <th>0</th>\n",
       "      <td>1_P</td>\n",
       "      <td>1.0</td>\n",
       "      <td>Main</td>\n",
       "      <td>Prologue</td>\n",
       "      <td>0.0</td>\n",
       "      <td>2015-05-25</td>\n",
       "      <td>The structure of Japanese society</td>\n",
       "      <td>It s a bit sudden, but listen seriously to ...</td>\n",
       "      <td>qbomb</td>\n",
       "      <td>NaN</td>\n",
       "      <td>...</td>\n",
       "      <td>0.0</td>\n",
       "      <td>0.019556</td>\n",
       "      <td>0.0</td>\n",
       "      <td>0.000000</td>\n",
       "      <td>0.005073</td>\n",
       "      <td>0.000000</td>\n",
       "      <td>0.000000</td>\n",
       "      <td>0.000000</td>\n",
       "      <td>0.103319</td>\n",
       "      <td>0.002705</td>\n",
       "    </tr>\n",
       "    <tr>\n",
       "      <th>1</th>\n",
       "      <td>1_1</td>\n",
       "      <td>1.0</td>\n",
       "      <td>Main</td>\n",
       "      <td>Chapter</td>\n",
       "      <td>1.0</td>\n",
       "      <td>2015-05-25</td>\n",
       "      <td>Welcome to my dream-like school life</td>\n",
       "      <td>Ayanokouji-kun, are you ok?    It came. It...</td>\n",
       "      <td>qbomb</td>\n",
       "      <td>NaN</td>\n",
       "      <td>...</td>\n",
       "      <td>0.0</td>\n",
       "      <td>0.080824</td>\n",
       "      <td>0.0</td>\n",
       "      <td>0.000000</td>\n",
       "      <td>0.049091</td>\n",
       "      <td>0.030135</td>\n",
       "      <td>0.048951</td>\n",
       "      <td>0.030249</td>\n",
       "      <td>0.000000</td>\n",
       "      <td>0.000000</td>\n",
       "    </tr>\n",
       "    <tr>\n",
       "      <th>2</th>\n",
       "      <td>1_2</td>\n",
       "      <td>1.0</td>\n",
       "      <td>Main</td>\n",
       "      <td>Chapter</td>\n",
       "      <td>2.0</td>\n",
       "      <td>2015-05-25</td>\n",
       "      <td>The students of class D</td>\n",
       "      <td>On the second day of school, even though it...</td>\n",
       "      <td>qbomb</td>\n",
       "      <td>NaN</td>\n",
       "      <td>...</td>\n",
       "      <td>0.0</td>\n",
       "      <td>0.000000</td>\n",
       "      <td>0.0</td>\n",
       "      <td>0.029199</td>\n",
       "      <td>0.003975</td>\n",
       "      <td>0.014704</td>\n",
       "      <td>0.079270</td>\n",
       "      <td>0.029427</td>\n",
       "      <td>0.000000</td>\n",
       "      <td>0.030646</td>\n",
       "    </tr>\n",
       "    <tr>\n",
       "      <th>3</th>\n",
       "      <td>1_3</td>\n",
       "      <td>1.0</td>\n",
       "      <td>Main</td>\n",
       "      <td>Chapter</td>\n",
       "      <td>3.0</td>\n",
       "      <td>2015-05-25</td>\n",
       "      <td>Ladies and gentlemen, thanks for waiting!</td>\n",
       "      <td>Good morning Yamauchi!   Good morning Ike!  Wh...</td>\n",
       "      <td>qbomb</td>\n",
       "      <td>NaN</td>\n",
       "      <td>...</td>\n",
       "      <td>0.0</td>\n",
       "      <td>0.069824</td>\n",
       "      <td>0.0</td>\n",
       "      <td>0.000000</td>\n",
       "      <td>0.000000</td>\n",
       "      <td>0.000000</td>\n",
       "      <td>0.018127</td>\n",
       "      <td>0.000000</td>\n",
       "      <td>0.000000</td>\n",
       "      <td>0.000000</td>\n",
       "    </tr>\n",
       "    <tr>\n",
       "      <th>4</th>\n",
       "      <td>1_4</td>\n",
       "      <td>1.0</td>\n",
       "      <td>Main</td>\n",
       "      <td>Chapter</td>\n",
       "      <td>4.0</td>\n",
       "      <td>2015-05-25</td>\n",
       "      <td>Friend</td>\n",
       "      <td>Kikyou-chan, do you want to stop by a cafe...</td>\n",
       "      <td>qbomb</td>\n",
       "      <td>NaN</td>\n",
       "      <td>...</td>\n",
       "      <td>0.0</td>\n",
       "      <td>0.000000</td>\n",
       "      <td>0.0</td>\n",
       "      <td>0.005179</td>\n",
       "      <td>0.000000</td>\n",
       "      <td>0.000000</td>\n",
       "      <td>0.000000</td>\n",
       "      <td>0.000000</td>\n",
       "      <td>0.000000</td>\n",
       "      <td>0.000000</td>\n",
       "    </tr>\n",
       "  </tbody>\n",
       "</table>\n",
       "<p>5 rows × 90 columns</p>\n",
       "</div>"
      ],
      "text/plain": [
       "    ID  Volume Volume_Type Chapter_Type  Chapter_Num PublishingDate_Original  \\\n",
       "0  1_P     1.0        Main     Prologue          0.0              2015-05-25   \n",
       "1  1_1     1.0        Main      Chapter          1.0              2015-05-25   \n",
       "2  1_2     1.0        Main      Chapter          2.0              2015-05-25   \n",
       "3  1_3     1.0        Main      Chapter          3.0              2015-05-25   \n",
       "4  1_4     1.0        Main      Chapter          4.0              2015-05-25   \n",
       "\n",
       "                                        Title  \\\n",
       "0        The structure of Japanese society      \n",
       "1     Welcome to my dream-like school life      \n",
       "2                  The students of class D      \n",
       "3   Ladies and gentlemen, thanks for waiting!   \n",
       "4                                   Friend      \n",
       "\n",
       "                                                Text Translator Editor  ...  \\\n",
       "0     It s a bit sudden, but listen seriously to ...      qbomb    NaN  ...   \n",
       "1      Ayanokouji-kun, are you ok?    It came. It...      qbomb    NaN  ...   \n",
       "2     On the second day of school, even though it...      qbomb    NaN  ...   \n",
       "3  Good morning Yamauchi!   Good morning Ike!  Wh...      qbomb    NaN  ...   \n",
       "4      Kikyou-chan, do you want to stop by a cafe...      qbomb    NaN  ...   \n",
       "\n",
       "   t66       t67  t68       t69       t70       t71       t72       t73  \\\n",
       "0  0.0  0.019556  0.0  0.000000  0.005073  0.000000  0.000000  0.000000   \n",
       "1  0.0  0.080824  0.0  0.000000  0.049091  0.030135  0.048951  0.030249   \n",
       "2  0.0  0.000000  0.0  0.029199  0.003975  0.014704  0.079270  0.029427   \n",
       "3  0.0  0.069824  0.0  0.000000  0.000000  0.000000  0.018127  0.000000   \n",
       "4  0.0  0.000000  0.0  0.005179  0.000000  0.000000  0.000000  0.000000   \n",
       "\n",
       "        t74       t75  \n",
       "0  0.103319  0.002705  \n",
       "1  0.000000  0.000000  \n",
       "2  0.000000  0.030646  \n",
       "3  0.000000  0.000000  \n",
       "4  0.000000  0.000000  \n",
       "\n",
       "[5 rows x 90 columns]"
      ]
     },
     "execution_count": 41,
     "metadata": {},
     "output_type": "execute_result"
    }
   ],
   "source": [
    "df_CotEscores = pd.DataFrame(scoresCotE, columns=[f't{i+1}' for i in range(scores.shape[1])])\n",
    "df_CotEscores #document_topic_distributions\n",
    "Topics = df_Main.join(df_CotEscores)\n",
    "Topics.head()"
   ]
  },
  {
   "cell_type": "code",
   "execution_count": 42,
   "id": "0041be8c",
   "metadata": {},
   "outputs": [
    {
     "data": {
      "text/html": [
       "<div>\n",
       "<style scoped>\n",
       "    .dataframe tbody tr th:only-of-type {\n",
       "        vertical-align: middle;\n",
       "    }\n",
       "\n",
       "    .dataframe tbody tr th {\n",
       "        vertical-align: top;\n",
       "    }\n",
       "\n",
       "    .dataframe thead th {\n",
       "        text-align: right;\n",
       "    }\n",
       "</style>\n",
       "<table border=\"1\" class=\"dataframe\">\n",
       "  <thead>\n",
       "    <tr style=\"text-align: right;\">\n",
       "      <th></th>\n",
       "      <th>t1</th>\n",
       "      <th>t2</th>\n",
       "      <th>t3</th>\n",
       "      <th>t4</th>\n",
       "      <th>t5</th>\n",
       "      <th>t6</th>\n",
       "      <th>t7</th>\n",
       "      <th>t8</th>\n",
       "      <th>t9</th>\n",
       "      <th>t10</th>\n",
       "      <th>...</th>\n",
       "      <th>t66</th>\n",
       "      <th>t67</th>\n",
       "      <th>t68</th>\n",
       "      <th>t69</th>\n",
       "      <th>t70</th>\n",
       "      <th>t71</th>\n",
       "      <th>t72</th>\n",
       "      <th>t73</th>\n",
       "      <th>t74</th>\n",
       "      <th>t75</th>\n",
       "    </tr>\n",
       "  </thead>\n",
       "  <tbody>\n",
       "    <tr>\n",
       "      <th>0</th>\n",
       "      <td>0.000000</td>\n",
       "      <td>0.000000</td>\n",
       "      <td>0.000000</td>\n",
       "      <td>0.001922</td>\n",
       "      <td>0.000000</td>\n",
       "      <td>0.000000</td>\n",
       "      <td>0.000000</td>\n",
       "      <td>0.000000</td>\n",
       "      <td>0.000000</td>\n",
       "      <td>0.000000</td>\n",
       "      <td>...</td>\n",
       "      <td>0.000000</td>\n",
       "      <td>0.019556</td>\n",
       "      <td>0.000000</td>\n",
       "      <td>0.000000</td>\n",
       "      <td>0.005073</td>\n",
       "      <td>0.000000</td>\n",
       "      <td>0.000000</td>\n",
       "      <td>0.000000</td>\n",
       "      <td>0.103319</td>\n",
       "      <td>0.002705</td>\n",
       "    </tr>\n",
       "    <tr>\n",
       "      <th>1</th>\n",
       "      <td>0.000000</td>\n",
       "      <td>0.000000</td>\n",
       "      <td>0.018720</td>\n",
       "      <td>0.001963</td>\n",
       "      <td>0.000000</td>\n",
       "      <td>0.000792</td>\n",
       "      <td>0.071142</td>\n",
       "      <td>0.000000</td>\n",
       "      <td>0.020546</td>\n",
       "      <td>0.024242</td>\n",
       "      <td>...</td>\n",
       "      <td>0.000000</td>\n",
       "      <td>0.080824</td>\n",
       "      <td>0.000000</td>\n",
       "      <td>0.000000</td>\n",
       "      <td>0.049091</td>\n",
       "      <td>0.030135</td>\n",
       "      <td>0.048951</td>\n",
       "      <td>0.030249</td>\n",
       "      <td>0.000000</td>\n",
       "      <td>0.000000</td>\n",
       "    </tr>\n",
       "    <tr>\n",
       "      <th>2</th>\n",
       "      <td>0.000000</td>\n",
       "      <td>0.000000</td>\n",
       "      <td>0.000000</td>\n",
       "      <td>0.000000</td>\n",
       "      <td>0.006925</td>\n",
       "      <td>0.000231</td>\n",
       "      <td>0.046128</td>\n",
       "      <td>0.012845</td>\n",
       "      <td>0.055343</td>\n",
       "      <td>0.016724</td>\n",
       "      <td>...</td>\n",
       "      <td>0.000000</td>\n",
       "      <td>0.000000</td>\n",
       "      <td>0.000000</td>\n",
       "      <td>0.029199</td>\n",
       "      <td>0.003975</td>\n",
       "      <td>0.014704</td>\n",
       "      <td>0.079270</td>\n",
       "      <td>0.029427</td>\n",
       "      <td>0.000000</td>\n",
       "      <td>0.030646</td>\n",
       "    </tr>\n",
       "    <tr>\n",
       "      <th>3</th>\n",
       "      <td>0.000000</td>\n",
       "      <td>0.000000</td>\n",
       "      <td>0.000000</td>\n",
       "      <td>0.000000</td>\n",
       "      <td>0.005146</td>\n",
       "      <td>0.000000</td>\n",
       "      <td>0.138202</td>\n",
       "      <td>0.000000</td>\n",
       "      <td>0.000000</td>\n",
       "      <td>0.032274</td>\n",
       "      <td>...</td>\n",
       "      <td>0.000000</td>\n",
       "      <td>0.069824</td>\n",
       "      <td>0.000000</td>\n",
       "      <td>0.000000</td>\n",
       "      <td>0.000000</td>\n",
       "      <td>0.000000</td>\n",
       "      <td>0.018127</td>\n",
       "      <td>0.000000</td>\n",
       "      <td>0.000000</td>\n",
       "      <td>0.000000</td>\n",
       "    </tr>\n",
       "    <tr>\n",
       "      <th>4</th>\n",
       "      <td>0.000000</td>\n",
       "      <td>0.000000</td>\n",
       "      <td>0.000000</td>\n",
       "      <td>0.000000</td>\n",
       "      <td>0.000000</td>\n",
       "      <td>0.000000</td>\n",
       "      <td>0.022015</td>\n",
       "      <td>0.025387</td>\n",
       "      <td>0.000000</td>\n",
       "      <td>0.005944</td>\n",
       "      <td>...</td>\n",
       "      <td>0.000000</td>\n",
       "      <td>0.000000</td>\n",
       "      <td>0.000000</td>\n",
       "      <td>0.005179</td>\n",
       "      <td>0.000000</td>\n",
       "      <td>0.000000</td>\n",
       "      <td>0.000000</td>\n",
       "      <td>0.000000</td>\n",
       "      <td>0.000000</td>\n",
       "      <td>0.000000</td>\n",
       "    </tr>\n",
       "    <tr>\n",
       "      <th>...</th>\n",
       "      <td>...</td>\n",
       "      <td>...</td>\n",
       "      <td>...</td>\n",
       "      <td>...</td>\n",
       "      <td>...</td>\n",
       "      <td>...</td>\n",
       "      <td>...</td>\n",
       "      <td>...</td>\n",
       "      <td>...</td>\n",
       "      <td>...</td>\n",
       "      <td>...</td>\n",
       "      <td>...</td>\n",
       "      <td>...</td>\n",
       "      <td>...</td>\n",
       "      <td>...</td>\n",
       "      <td>...</td>\n",
       "      <td>...</td>\n",
       "      <td>...</td>\n",
       "      <td>...</td>\n",
       "      <td>...</td>\n",
       "      <td>...</td>\n",
       "    </tr>\n",
       "    <tr>\n",
       "      <th>171</th>\n",
       "      <td>0.000000</td>\n",
       "      <td>0.000000</td>\n",
       "      <td>0.000000</td>\n",
       "      <td>0.000000</td>\n",
       "      <td>0.019070</td>\n",
       "      <td>0.000000</td>\n",
       "      <td>0.004796</td>\n",
       "      <td>0.007717</td>\n",
       "      <td>0.018641</td>\n",
       "      <td>0.000000</td>\n",
       "      <td>...</td>\n",
       "      <td>0.118089</td>\n",
       "      <td>0.000000</td>\n",
       "      <td>0.005530</td>\n",
       "      <td>0.000000</td>\n",
       "      <td>0.000000</td>\n",
       "      <td>0.020299</td>\n",
       "      <td>0.000000</td>\n",
       "      <td>0.024317</td>\n",
       "      <td>0.000000</td>\n",
       "      <td>0.037568</td>\n",
       "    </tr>\n",
       "    <tr>\n",
       "      <th>172</th>\n",
       "      <td>0.000000</td>\n",
       "      <td>0.000000</td>\n",
       "      <td>0.006249</td>\n",
       "      <td>0.000000</td>\n",
       "      <td>0.018126</td>\n",
       "      <td>0.000000</td>\n",
       "      <td>0.005460</td>\n",
       "      <td>0.021741</td>\n",
       "      <td>0.075515</td>\n",
       "      <td>0.000000</td>\n",
       "      <td>...</td>\n",
       "      <td>0.037703</td>\n",
       "      <td>0.000000</td>\n",
       "      <td>0.095338</td>\n",
       "      <td>0.000000</td>\n",
       "      <td>0.000000</td>\n",
       "      <td>0.000000</td>\n",
       "      <td>0.000000</td>\n",
       "      <td>0.110850</td>\n",
       "      <td>0.109289</td>\n",
       "      <td>0.026893</td>\n",
       "    </tr>\n",
       "    <tr>\n",
       "      <th>173</th>\n",
       "      <td>0.005065</td>\n",
       "      <td>0.002483</td>\n",
       "      <td>0.001331</td>\n",
       "      <td>0.004747</td>\n",
       "      <td>0.053729</td>\n",
       "      <td>0.000000</td>\n",
       "      <td>0.000000</td>\n",
       "      <td>0.017641</td>\n",
       "      <td>0.000000</td>\n",
       "      <td>0.000000</td>\n",
       "      <td>...</td>\n",
       "      <td>0.000000</td>\n",
       "      <td>0.010185</td>\n",
       "      <td>0.374281</td>\n",
       "      <td>0.115340</td>\n",
       "      <td>0.000000</td>\n",
       "      <td>0.015563</td>\n",
       "      <td>0.000000</td>\n",
       "      <td>0.034463</td>\n",
       "      <td>0.000000</td>\n",
       "      <td>0.000000</td>\n",
       "    </tr>\n",
       "    <tr>\n",
       "      <th>174</th>\n",
       "      <td>0.000000</td>\n",
       "      <td>0.013657</td>\n",
       "      <td>0.000000</td>\n",
       "      <td>0.000000</td>\n",
       "      <td>0.084749</td>\n",
       "      <td>0.000000</td>\n",
       "      <td>0.002984</td>\n",
       "      <td>0.016532</td>\n",
       "      <td>0.118819</td>\n",
       "      <td>0.000000</td>\n",
       "      <td>...</td>\n",
       "      <td>0.000000</td>\n",
       "      <td>0.004038</td>\n",
       "      <td>0.123350</td>\n",
       "      <td>0.097838</td>\n",
       "      <td>0.000000</td>\n",
       "      <td>0.001753</td>\n",
       "      <td>0.068171</td>\n",
       "      <td>0.002802</td>\n",
       "      <td>0.009240</td>\n",
       "      <td>0.000000</td>\n",
       "    </tr>\n",
       "    <tr>\n",
       "      <th>175</th>\n",
       "      <td>0.000000</td>\n",
       "      <td>0.000361</td>\n",
       "      <td>0.000000</td>\n",
       "      <td>0.000000</td>\n",
       "      <td>0.002728</td>\n",
       "      <td>0.000000</td>\n",
       "      <td>0.000000</td>\n",
       "      <td>0.024087</td>\n",
       "      <td>0.025478</td>\n",
       "      <td>0.000000</td>\n",
       "      <td>...</td>\n",
       "      <td>0.009194</td>\n",
       "      <td>0.000000</td>\n",
       "      <td>0.334180</td>\n",
       "      <td>0.000000</td>\n",
       "      <td>0.006630</td>\n",
       "      <td>0.000000</td>\n",
       "      <td>0.000000</td>\n",
       "      <td>0.000000</td>\n",
       "      <td>0.000000</td>\n",
       "      <td>0.000000</td>\n",
       "    </tr>\n",
       "  </tbody>\n",
       "</table>\n",
       "<p>145 rows × 75 columns</p>\n",
       "</div>"
      ],
      "text/plain": [
       "           t1        t2        t3        t4        t5        t6        t7  \\\n",
       "0    0.000000  0.000000  0.000000  0.001922  0.000000  0.000000  0.000000   \n",
       "1    0.000000  0.000000  0.018720  0.001963  0.000000  0.000792  0.071142   \n",
       "2    0.000000  0.000000  0.000000  0.000000  0.006925  0.000231  0.046128   \n",
       "3    0.000000  0.000000  0.000000  0.000000  0.005146  0.000000  0.138202   \n",
       "4    0.000000  0.000000  0.000000  0.000000  0.000000  0.000000  0.022015   \n",
       "..        ...       ...       ...       ...       ...       ...       ...   \n",
       "171  0.000000  0.000000  0.000000  0.000000  0.019070  0.000000  0.004796   \n",
       "172  0.000000  0.000000  0.006249  0.000000  0.018126  0.000000  0.005460   \n",
       "173  0.005065  0.002483  0.001331  0.004747  0.053729  0.000000  0.000000   \n",
       "174  0.000000  0.013657  0.000000  0.000000  0.084749  0.000000  0.002984   \n",
       "175  0.000000  0.000361  0.000000  0.000000  0.002728  0.000000  0.000000   \n",
       "\n",
       "           t8        t9       t10  ...       t66       t67       t68  \\\n",
       "0    0.000000  0.000000  0.000000  ...  0.000000  0.019556  0.000000   \n",
       "1    0.000000  0.020546  0.024242  ...  0.000000  0.080824  0.000000   \n",
       "2    0.012845  0.055343  0.016724  ...  0.000000  0.000000  0.000000   \n",
       "3    0.000000  0.000000  0.032274  ...  0.000000  0.069824  0.000000   \n",
       "4    0.025387  0.000000  0.005944  ...  0.000000  0.000000  0.000000   \n",
       "..        ...       ...       ...  ...       ...       ...       ...   \n",
       "171  0.007717  0.018641  0.000000  ...  0.118089  0.000000  0.005530   \n",
       "172  0.021741  0.075515  0.000000  ...  0.037703  0.000000  0.095338   \n",
       "173  0.017641  0.000000  0.000000  ...  0.000000  0.010185  0.374281   \n",
       "174  0.016532  0.118819  0.000000  ...  0.000000  0.004038  0.123350   \n",
       "175  0.024087  0.025478  0.000000  ...  0.009194  0.000000  0.334180   \n",
       "\n",
       "          t69       t70       t71       t72       t73       t74       t75  \n",
       "0    0.000000  0.005073  0.000000  0.000000  0.000000  0.103319  0.002705  \n",
       "1    0.000000  0.049091  0.030135  0.048951  0.030249  0.000000  0.000000  \n",
       "2    0.029199  0.003975  0.014704  0.079270  0.029427  0.000000  0.030646  \n",
       "3    0.000000  0.000000  0.000000  0.018127  0.000000  0.000000  0.000000  \n",
       "4    0.005179  0.000000  0.000000  0.000000  0.000000  0.000000  0.000000  \n",
       "..        ...       ...       ...       ...       ...       ...       ...  \n",
       "171  0.000000  0.000000  0.020299  0.000000  0.024317  0.000000  0.037568  \n",
       "172  0.000000  0.000000  0.000000  0.000000  0.110850  0.109289  0.026893  \n",
       "173  0.115340  0.000000  0.015563  0.000000  0.034463  0.000000  0.000000  \n",
       "174  0.097838  0.000000  0.001753  0.068171  0.002802  0.009240  0.000000  \n",
       "175  0.000000  0.006630  0.000000  0.000000  0.000000  0.000000  0.000000  \n",
       "\n",
       "[145 rows x 75 columns]"
      ]
     },
     "execution_count": 42,
     "metadata": {},
     "output_type": "execute_result"
    }
   ],
   "source": [
    "document_topic_distributions = pd.DataFrame(\n",
    "    scoresCotE, columns=[f't{i+1}' for i in range(scores.shape[1])], index=Topics.index)\n",
    "document_topic_distributions"
   ]
  },
  {
   "cell_type": "code",
   "execution_count": 43,
   "id": "db37ed94",
   "metadata": {},
   "outputs": [
    {
     "data": {
      "text/plain": [
       "t74    0.103319\n",
       "t59    0.045498\n",
       "t52    0.031082\n",
       "t48    0.029595\n",
       "t39    0.022670\n",
       "Name: 0, dtype: float64"
      ]
     },
     "execution_count": 43,
     "metadata": {},
     "output_type": "execute_result"
    }
   ],
   "source": [
    "document_topic_distributions.loc[0].sort_values(ascending=False).head()"
   ]
  },
  {
   "cell_type": "code",
   "execution_count": 44,
   "id": "9ca17954",
   "metadata": {},
   "outputs": [
    {
     "data": {
      "text/plain": [
       "man           0.146217\n",
       "house         0.124832\n",
       "study         0.085494\n",
       "cups          0.075966\n",
       "ward          0.064923\n",
       "mutual        0.063454\n",
       "mile          0.059206\n",
       "boy           0.059064\n",
       "robinson      0.058368\n",
       "round         0.054726\n",
       "detective     0.054305\n",
       "pavilion      0.054295\n",
       "found         0.054072\n",
       "old           0.053214\n",
       "headmaster    0.053110\n",
       "Name: Topic 73, dtype: float64"
      ]
     },
     "execution_count": 44,
     "metadata": {},
     "output_type": "execute_result"
    }
   ],
   "source": [
    "topic_word_distributions.loc['Topic 73'].sort_values(ascending=False).head(15)"
   ]
  },
  {
   "cell_type": "code",
   "execution_count": 45,
   "id": "ac6caff6",
   "metadata": {},
   "outputs": [
    {
     "data": {
      "text/plain": [
       "miss        0.410590\n",
       "form        0.130170\n",
       "home        0.123085\n",
       "aunt        0.106823\n",
       "shall       0.098342\n",
       "oh          0.095949\n",
       "round       0.095376\n",
       "car         0.090889\n",
       "old         0.089464\n",
       "whole       0.077565\n",
       "cousin      0.076194\n",
       "upon        0.075683\n",
       "family      0.074557\n",
       "declared    0.072392\n",
       "ought       0.069981\n",
       "Name: Topic 75, dtype: float64"
      ]
     },
     "execution_count": 45,
     "metadata": {},
     "output_type": "execute_result"
    }
   ],
   "source": [
    "topic_word_distributions.loc['Topic 75'].sort_values(ascending=False).head(15)"
   ]
  },
  {
   "cell_type": "code",
   "execution_count": 46,
   "id": "caba69c8",
   "metadata": {},
   "outputs": [
    {
     "data": {
      "text/plain": [
       "rose      0.403683\n",
       "papa      0.264461\n",
       "miss      0.238492\n",
       "jane      0.229219\n",
       "page      0.126532\n",
       "oh        0.117707\n",
       "cried     0.116619\n",
       "home      0.114835\n",
       "cousin    0.111177\n",
       "dear      0.104271\n",
       "door      0.103551\n",
       "red       0.102747\n",
       "mary      0.093123\n",
       "nice      0.079919\n",
       "shall     0.077216\n",
       "Name: Topic 60, dtype: float64"
      ]
     },
     "execution_count": 46,
     "metadata": {},
     "output_type": "execute_result"
    }
   ],
   "source": [
    "topic_word_distributions.loc['Topic 60'].sort_values(ascending=False).head(15)"
   ]
  },
  {
   "cell_type": "markdown",
   "id": "d981b10b",
   "metadata": {},
   "source": [
    "#### Kendall's Tau Statistic "
   ]
  },
  {
   "cell_type": "code",
   "execution_count": 47,
   "id": "da58d7fd",
   "metadata": {
    "scrolled": true
   },
   "outputs": [
    {
     "data": {
      "text/plain": [
       "[('t49', -0.34607073056598386),\n",
       " ('t18', -0.31387660842636345),\n",
       " ('t7', -0.3072145191440955),\n",
       " ('t27', -0.2820791793291875),\n",
       " ('t64', -0.2650025324378925),\n",
       " ('t10', -0.2648776964364067),\n",
       " ('t72', -0.2454141872275386),\n",
       " ('t52', -0.22051198749563644),\n",
       " ('t31', -0.2050721887853721),\n",
       " ('t38', -0.18576551303726044),\n",
       " ('t11', -0.18004052322952308),\n",
       " ('t12', -0.1742546163185136),\n",
       " ('t19', -0.17276276348447012),\n",
       " ('t40', -0.15389457431435752),\n",
       " ('t51', -0.14154418800229984),\n",
       " ('t9', -0.14042546506606066),\n",
       " ('t14', -0.13361684293355267),\n",
       " ('t13', -0.13109869146094236),\n",
       " ('t59', -0.1243948488383533),\n",
       " ('t42', -0.11800218683113417),\n",
       " ('t15', -0.10133464335811938),\n",
       " ('t70', -0.08225996668505256),\n",
       " ('t25', -0.08066284178849685),\n",
       " ('t47', -0.07700717923832548),\n",
       " ('t45', -0.06338461755866431),\n",
       " ('t2', -0.05464632514503605),\n",
       " ('t22', -0.0472963514424253),\n",
       " ('t61', -0.04267875495471013),\n",
       " ('t43', -0.03766020835149793),\n",
       " ('t34', -0.03336176086535023),\n",
       " ('t35', -0.032649245485820155),\n",
       " ('t60', -0.031706479059458864),\n",
       " ('t62', -0.025304400323705147),\n",
       " ('t44', -0.025091499292334493),\n",
       " ('t50', -0.019877498397150875),\n",
       " ('t6', -0.014231479221900786),\n",
       " ('t67', -0.012182390699828455),\n",
       " ('t26', -0.00937194973149564),\n",
       " ('t1', -0.007197284262730715),\n",
       " ('t56', 0.001160227685697948),\n",
       " ('t36', 0.006878345808069564),\n",
       " ('t65', 0.018818115890001638),\n",
       " ('t4', 0.021256474555251603),\n",
       " ('t23', 0.021353482184205328),\n",
       " ('t3', 0.02392772850892328),\n",
       " ('t68', 0.025004378428553027),\n",
       " ('t21', 0.0411632289183218),\n",
       " ('t58', 0.048643790385933146),\n",
       " ('t20', 0.05067468160132309),\n",
       " ('t73', 0.05178501469999907),\n",
       " ('t55', 0.056019803091200526),\n",
       " ('t16', 0.06263436714002771),\n",
       " ('t32', 0.0642765809548591),\n",
       " ('t41', 0.07358010422971709),\n",
       " ('t37', 0.0820568144658531),\n",
       " ('t54', 0.08548799396708527),\n",
       " ('t8', 0.08875622323887371),\n",
       " ('t53', 0.10818659717260769),\n",
       " ('t71', 0.1087761492037234),\n",
       " ('t66', 0.11454605227383559),\n",
       " ('t75', 0.11693187873718258),\n",
       " ('t39', 0.13641393498065876),\n",
       " ('t74', 0.154346398781487),\n",
       " ('t28', 0.15652432663433496),\n",
       " ('t69', 0.15810293443083367),\n",
       " ('t24', 0.15986071378047517),\n",
       " ('t46', 0.17118989396943501),\n",
       " ('t48', 0.17356667839631482),\n",
       " ('t29', 0.177154614035044),\n",
       " ('t33', 0.18321006423202604),\n",
       " ('t30', 0.18774803317098715),\n",
       " ('t63', 0.19075693444313516),\n",
       " ('t17', 0.2219159767202718),\n",
       " ('t5', 0.25027932006179904),\n",
       " ('t57', 0.2549081015379237)]"
      ]
     },
     "execution_count": 47,
     "metadata": {},
     "output_type": "execute_result"
    }
   ],
   "source": [
    "from operator import itemgetter\n",
    "from scipy.stats import kendalltau\n",
    "\n",
    "ranks = range(1, len(document_topic_distributions.index)+1)\n",
    "tau_scoresTOTAL = []\n",
    "for col in [f't{i+1}' for i in range(document_topic_distributions.shape[1])]:\n",
    "    tau, p = kendalltau(ranks, document_topic_distributions[col].tolist())\n",
    "    tau_scoresTOTAL.append((col, tau))\n",
    "    \n",
    "tau_scoresTOTAL.sort(key=itemgetter(1))\n",
    "nb = 8\n",
    "top, bottom = tau_scoresTOTAL[:nb], tau_scoresTOTAL[-nb:]\n",
    "\n",
    "tau_scoresTOTAL"
   ]
  },
  {
   "cell_type": "code",
   "execution_count": 48,
   "id": "bced1ad5",
   "metadata": {},
   "outputs": [
    {
     "data": {
      "text/plain": [
       "senpai        0.502482\n",
       "climbing      0.443314\n",
       "catch         0.217022\n",
       "definitely    0.198514\n",
       "ayanokouji    0.190241\n",
       "accord        0.177800\n",
       "fearing       0.172471\n",
       "amounted      0.172452\n",
       "obstacle      0.172413\n",
       "rocky         0.167553\n",
       "conviction    0.162993\n",
       "forcibly      0.162972\n",
       "belief        0.162953\n",
       "wasting       0.158806\n",
       "worries       0.158743\n",
       "Name: Topic 48, dtype: float64"
      ]
     },
     "execution_count": 48,
     "metadata": {},
     "output_type": "execute_result"
    }
   ],
   "source": [
    "topic_word_distributions.loc['Topic 48'].sort_values(ascending=False).head(15)"
   ]
  },
  {
   "cell_type": "code",
   "execution_count": 49,
   "id": "8b7a6784",
   "metadata": {},
   "outputs": [
    {
     "data": {
      "text/plain": [
       "ayanokouji    1.020279\n",
       "cold          0.891131\n",
       "deciding      0.763647\n",
       "topic         0.688450\n",
       "ah            0.631388\n",
       "greeting      0.621006\n",
       "march         0.583156\n",
       "flow          0.550153\n",
       "weather       0.513307\n",
       "self          0.489406\n",
       "troubled      0.472793\n",
       "mistake       0.459003\n",
       "standing      0.440054\n",
       "walking       0.433425\n",
       "usually       0.427019\n",
       "Name: Topic 26, dtype: float64"
      ]
     },
     "execution_count": 49,
     "metadata": {},
     "output_type": "execute_result"
    }
   ],
   "source": [
    "topic_word_distributions.loc['Topic 26'].sort_values(ascending=False).head(15)"
   ]
  },
  {
   "cell_type": "code",
   "execution_count": 50,
   "id": "8c092edd",
   "metadata": {},
   "outputs": [
    {
     "data": {
      "text/plain": [
       "sudou        1.991210\n",
       "ike          1.404267\n",
       "yamauchi     0.757194\n",
       "council      0.648673\n",
       "birthday     0.644260\n",
       "kushida      0.642800\n",
       "pool         0.450676\n",
       "present      0.448025\n",
       "points       0.437647\n",
       "president    0.400564\n",
       "summer       0.262305\n",
       "uniform      0.243717\n",
       "shop         0.241568\n",
       "ichinose     0.233081\n",
       "ball         0.228335\n",
       "Name: Topic 7, dtype: float64"
      ]
     },
     "execution_count": 50,
     "metadata": {},
     "output_type": "execute_result"
    }
   ],
   "source": [
    "topic_word_distributions.loc['Topic 7'].sort_values(ascending=False).head(15)"
   ]
  },
  {
   "cell_type": "markdown",
   "id": "524f1f93",
   "metadata": {},
   "source": [
    "## Results Analysis"
   ]
  },
  {
   "cell_type": "markdown",
   "id": "41c781a6",
   "metadata": {},
   "source": [
    "### Trimesters"
   ]
  },
  {
   "cell_type": "code",
   "execution_count": 51,
   "id": "287df45d",
   "metadata": {},
   "outputs": [
    {
     "name": "stderr",
     "output_type": "stream",
     "text": [
      "C:\\Users\\morin\\AppData\\Local\\Temp\\ipykernel_11236\\3084808183.py:6: FutureWarning: The frame.append method is deprecated and will be removed from pandas in a future version. Use pandas.concat instead.\n",
      "  df_CotE = df_CotEA.append(df_CotEB, ignore_index=True)\n",
      "C:\\Users\\morin\\AppData\\Local\\Temp\\ipykernel_11236\\3084808183.py:7: FutureWarning: The frame.append method is deprecated and will be removed from pandas in a future version. Use pandas.concat instead.\n",
      "  df_CotE = df_CotE.append(df_CotEC, ignore_index=True)\n",
      "C:\\Users\\morin\\AppData\\Local\\Temp\\ipykernel_11236\\3084808183.py:8: FutureWarning: The frame.append method is deprecated and will be removed from pandas in a future version. Use pandas.concat instead.\n",
      "  df_CotE = df_CotE.append(df_CotED, ignore_index=True)\n"
     ]
    },
    {
     "data": {
      "text/plain": [
       "0    1\n",
       "1    1\n",
       "2    1\n",
       "3    1\n",
       "4    1\n",
       "Name: Trimester, dtype: int64"
      ]
     },
     "execution_count": 51,
     "metadata": {},
     "output_type": "execute_result"
    }
   ],
   "source": [
    "#Making the Trimester Column Numeric\n",
    "df_CotEA = df_Main[df_Main[\"Trimester\"] == \"1\"]\n",
    "df_CotEB = df_Main[df_Main[\"Trimester\"] == \"2\"]\n",
    "df_CotEC = df_Main[df_Main[\"Trimester\"] == \"3\"]\n",
    "df_CotED = df_Main[df_Main[\"Trimester\"] == \"4\"]\n",
    "df_CotE = df_CotEA.append(df_CotEB, ignore_index=True)\n",
    "df_CotE = df_CotE.append(df_CotEC, ignore_index=True)\n",
    "df_CotE = df_CotE.append(df_CotED, ignore_index=True)\n",
    "df_CotE.head()\n",
    "\n",
    "df_CotE[\"Trimester\"] = df_CotE[[\"Trimester\"]].apply(pd.to_numeric)\n",
    "df_CotE[\"Trimester\"].head()"
   ]
  },
  {
   "cell_type": "code",
   "execution_count": 52,
   "id": "8353207f",
   "metadata": {},
   "outputs": [
    {
     "data": {
      "text/html": [
       "<div>\n",
       "<style scoped>\n",
       "    .dataframe tbody tr th:only-of-type {\n",
       "        vertical-align: middle;\n",
       "    }\n",
       "\n",
       "    .dataframe tbody tr th {\n",
       "        vertical-align: top;\n",
       "    }\n",
       "\n",
       "    .dataframe thead th {\n",
       "        text-align: right;\n",
       "    }\n",
       "</style>\n",
       "<table border=\"1\" class=\"dataframe\">\n",
       "  <thead>\n",
       "    <tr style=\"text-align: right;\">\n",
       "      <th></th>\n",
       "      <th>Trimester</th>\n",
       "      <th>t1</th>\n",
       "      <th>t2</th>\n",
       "      <th>t3</th>\n",
       "      <th>t4</th>\n",
       "      <th>t5</th>\n",
       "      <th>t6</th>\n",
       "      <th>t7</th>\n",
       "      <th>t8</th>\n",
       "      <th>t9</th>\n",
       "      <th>...</th>\n",
       "      <th>t66</th>\n",
       "      <th>t67</th>\n",
       "      <th>t68</th>\n",
       "      <th>t69</th>\n",
       "      <th>t70</th>\n",
       "      <th>t71</th>\n",
       "      <th>t72</th>\n",
       "      <th>t73</th>\n",
       "      <th>t74</th>\n",
       "      <th>t75</th>\n",
       "    </tr>\n",
       "  </thead>\n",
       "  <tbody>\n",
       "    <tr>\n",
       "      <th>0</th>\n",
       "      <td>1</td>\n",
       "      <td>0.0</td>\n",
       "      <td>0.0</td>\n",
       "      <td>0.00000</td>\n",
       "      <td>0.001922</td>\n",
       "      <td>0.000000</td>\n",
       "      <td>0.000000</td>\n",
       "      <td>0.000000</td>\n",
       "      <td>0.000000</td>\n",
       "      <td>0.000000</td>\n",
       "      <td>...</td>\n",
       "      <td>0.0</td>\n",
       "      <td>0.019556</td>\n",
       "      <td>0.0</td>\n",
       "      <td>0.000000</td>\n",
       "      <td>0.005073</td>\n",
       "      <td>0.000000</td>\n",
       "      <td>0.000000</td>\n",
       "      <td>0.000000</td>\n",
       "      <td>0.103319</td>\n",
       "      <td>0.002705</td>\n",
       "    </tr>\n",
       "    <tr>\n",
       "      <th>1</th>\n",
       "      <td>1</td>\n",
       "      <td>0.0</td>\n",
       "      <td>0.0</td>\n",
       "      <td>0.01872</td>\n",
       "      <td>0.001963</td>\n",
       "      <td>0.000000</td>\n",
       "      <td>0.000792</td>\n",
       "      <td>0.071142</td>\n",
       "      <td>0.000000</td>\n",
       "      <td>0.020546</td>\n",
       "      <td>...</td>\n",
       "      <td>0.0</td>\n",
       "      <td>0.080824</td>\n",
       "      <td>0.0</td>\n",
       "      <td>0.000000</td>\n",
       "      <td>0.049091</td>\n",
       "      <td>0.030135</td>\n",
       "      <td>0.048951</td>\n",
       "      <td>0.030249</td>\n",
       "      <td>0.000000</td>\n",
       "      <td>0.000000</td>\n",
       "    </tr>\n",
       "    <tr>\n",
       "      <th>2</th>\n",
       "      <td>1</td>\n",
       "      <td>0.0</td>\n",
       "      <td>0.0</td>\n",
       "      <td>0.00000</td>\n",
       "      <td>0.000000</td>\n",
       "      <td>0.006925</td>\n",
       "      <td>0.000231</td>\n",
       "      <td>0.046128</td>\n",
       "      <td>0.012845</td>\n",
       "      <td>0.055343</td>\n",
       "      <td>...</td>\n",
       "      <td>0.0</td>\n",
       "      <td>0.000000</td>\n",
       "      <td>0.0</td>\n",
       "      <td>0.029199</td>\n",
       "      <td>0.003975</td>\n",
       "      <td>0.014704</td>\n",
       "      <td>0.079270</td>\n",
       "      <td>0.029427</td>\n",
       "      <td>0.000000</td>\n",
       "      <td>0.030646</td>\n",
       "    </tr>\n",
       "    <tr>\n",
       "      <th>3</th>\n",
       "      <td>1</td>\n",
       "      <td>0.0</td>\n",
       "      <td>0.0</td>\n",
       "      <td>0.00000</td>\n",
       "      <td>0.000000</td>\n",
       "      <td>0.005146</td>\n",
       "      <td>0.000000</td>\n",
       "      <td>0.138202</td>\n",
       "      <td>0.000000</td>\n",
       "      <td>0.000000</td>\n",
       "      <td>...</td>\n",
       "      <td>0.0</td>\n",
       "      <td>0.069824</td>\n",
       "      <td>0.0</td>\n",
       "      <td>0.000000</td>\n",
       "      <td>0.000000</td>\n",
       "      <td>0.000000</td>\n",
       "      <td>0.018127</td>\n",
       "      <td>0.000000</td>\n",
       "      <td>0.000000</td>\n",
       "      <td>0.000000</td>\n",
       "    </tr>\n",
       "    <tr>\n",
       "      <th>4</th>\n",
       "      <td>1</td>\n",
       "      <td>0.0</td>\n",
       "      <td>0.0</td>\n",
       "      <td>0.00000</td>\n",
       "      <td>0.000000</td>\n",
       "      <td>0.000000</td>\n",
       "      <td>0.000000</td>\n",
       "      <td>0.022015</td>\n",
       "      <td>0.025387</td>\n",
       "      <td>0.000000</td>\n",
       "      <td>...</td>\n",
       "      <td>0.0</td>\n",
       "      <td>0.000000</td>\n",
       "      <td>0.0</td>\n",
       "      <td>0.005179</td>\n",
       "      <td>0.000000</td>\n",
       "      <td>0.000000</td>\n",
       "      <td>0.000000</td>\n",
       "      <td>0.000000</td>\n",
       "      <td>0.000000</td>\n",
       "      <td>0.000000</td>\n",
       "    </tr>\n",
       "  </tbody>\n",
       "</table>\n",
       "<p>5 rows × 76 columns</p>\n",
       "</div>"
      ],
      "text/plain": [
       "   Trimester   t1   t2       t3        t4        t5        t6        t7  \\\n",
       "0          1  0.0  0.0  0.00000  0.001922  0.000000  0.000000  0.000000   \n",
       "1          1  0.0  0.0  0.01872  0.001963  0.000000  0.000792  0.071142   \n",
       "2          1  0.0  0.0  0.00000  0.000000  0.006925  0.000231  0.046128   \n",
       "3          1  0.0  0.0  0.00000  0.000000  0.005146  0.000000  0.138202   \n",
       "4          1  0.0  0.0  0.00000  0.000000  0.000000  0.000000  0.022015   \n",
       "\n",
       "         t8        t9  ...  t66       t67  t68       t69       t70       t71  \\\n",
       "0  0.000000  0.000000  ...  0.0  0.019556  0.0  0.000000  0.005073  0.000000   \n",
       "1  0.000000  0.020546  ...  0.0  0.080824  0.0  0.000000  0.049091  0.030135   \n",
       "2  0.012845  0.055343  ...  0.0  0.000000  0.0  0.029199  0.003975  0.014704   \n",
       "3  0.000000  0.000000  ...  0.0  0.069824  0.0  0.000000  0.000000  0.000000   \n",
       "4  0.025387  0.000000  ...  0.0  0.000000  0.0  0.005179  0.000000  0.000000   \n",
       "\n",
       "        t72       t73       t74       t75  \n",
       "0  0.000000  0.000000  0.103319  0.002705  \n",
       "1  0.048951  0.030249  0.000000  0.000000  \n",
       "2  0.079270  0.029427  0.000000  0.030646  \n",
       "3  0.018127  0.000000  0.000000  0.000000  \n",
       "4  0.000000  0.000000  0.000000  0.000000  \n",
       "\n",
       "[5 rows x 76 columns]"
      ]
     },
     "execution_count": 52,
     "metadata": {},
     "output_type": "execute_result"
    }
   ],
   "source": [
    "df_scores = pd.DataFrame(scoresCotE, columns=[f't{i+1}' for i in range(scores.shape[1])])\n",
    "Trimester_Topics = df_CotE[[\"Trimester\"]].join(df_scores)\n",
    "Trimester_Topics.head()"
   ]
  },
  {
   "cell_type": "code",
   "execution_count": 53,
   "id": "1f5cc58e",
   "metadata": {},
   "outputs": [
    {
     "data": {
      "text/html": [
       "<div>\n",
       "<style scoped>\n",
       "    .dataframe tbody tr th:only-of-type {\n",
       "        vertical-align: middle;\n",
       "    }\n",
       "\n",
       "    .dataframe tbody tr th {\n",
       "        vertical-align: top;\n",
       "    }\n",
       "\n",
       "    .dataframe thead th {\n",
       "        text-align: right;\n",
       "    }\n",
       "</style>\n",
       "<table border=\"1\" class=\"dataframe\">\n",
       "  <thead>\n",
       "    <tr style=\"text-align: right;\">\n",
       "      <th></th>\n",
       "      <th>t1</th>\n",
       "      <th>t2</th>\n",
       "      <th>t3</th>\n",
       "      <th>t4</th>\n",
       "      <th>t5</th>\n",
       "      <th>t6</th>\n",
       "      <th>t7</th>\n",
       "      <th>t8</th>\n",
       "      <th>t9</th>\n",
       "      <th>t10</th>\n",
       "      <th>...</th>\n",
       "      <th>t66</th>\n",
       "      <th>t67</th>\n",
       "      <th>t68</th>\n",
       "      <th>t69</th>\n",
       "      <th>t70</th>\n",
       "      <th>t71</th>\n",
       "      <th>t72</th>\n",
       "      <th>t73</th>\n",
       "      <th>t74</th>\n",
       "      <th>t75</th>\n",
       "    </tr>\n",
       "    <tr>\n",
       "      <th>Trimester</th>\n",
       "      <th></th>\n",
       "      <th></th>\n",
       "      <th></th>\n",
       "      <th></th>\n",
       "      <th></th>\n",
       "      <th></th>\n",
       "      <th></th>\n",
       "      <th></th>\n",
       "      <th></th>\n",
       "      <th></th>\n",
       "      <th></th>\n",
       "      <th></th>\n",
       "      <th></th>\n",
       "      <th></th>\n",
       "      <th></th>\n",
       "      <th></th>\n",
       "      <th></th>\n",
       "      <th></th>\n",
       "      <th></th>\n",
       "      <th></th>\n",
       "      <th></th>\n",
       "    </tr>\n",
       "  </thead>\n",
       "  <tbody>\n",
       "    <tr>\n",
       "      <th>1</th>\n",
       "      <td>0.000537</td>\n",
       "      <td>0.006313</td>\n",
       "      <td>0.003940</td>\n",
       "      <td>0.000770</td>\n",
       "      <td>0.001027</td>\n",
       "      <td>0.000053</td>\n",
       "      <td>0.065367</td>\n",
       "      <td>0.004212</td>\n",
       "      <td>0.050059</td>\n",
       "      <td>0.007026</td>\n",
       "      <td>...</td>\n",
       "      <td>0.004211</td>\n",
       "      <td>0.009580</td>\n",
       "      <td>0.017018</td>\n",
       "      <td>0.006358</td>\n",
       "      <td>0.003306</td>\n",
       "      <td>0.002064</td>\n",
       "      <td>0.053012</td>\n",
       "      <td>0.013988</td>\n",
       "      <td>0.004941</td>\n",
       "      <td>0.008972</td>\n",
       "    </tr>\n",
       "    <tr>\n",
       "      <th>2</th>\n",
       "      <td>0.003028</td>\n",
       "      <td>0.002008</td>\n",
       "      <td>0.002052</td>\n",
       "      <td>0.003876</td>\n",
       "      <td>0.002915</td>\n",
       "      <td>0.000126</td>\n",
       "      <td>0.042336</td>\n",
       "      <td>0.000899</td>\n",
       "      <td>0.080625</td>\n",
       "      <td>0.003075</td>\n",
       "      <td>...</td>\n",
       "      <td>0.000937</td>\n",
       "      <td>0.002709</td>\n",
       "      <td>0.097402</td>\n",
       "      <td>0.001086</td>\n",
       "      <td>0.002003</td>\n",
       "      <td>0.000950</td>\n",
       "      <td>0.069106</td>\n",
       "      <td>0.030864</td>\n",
       "      <td>0.013265</td>\n",
       "      <td>0.007704</td>\n",
       "    </tr>\n",
       "    <tr>\n",
       "      <th>3</th>\n",
       "      <td>0.000673</td>\n",
       "      <td>0.008559</td>\n",
       "      <td>0.003405</td>\n",
       "      <td>0.003033</td>\n",
       "      <td>0.009466</td>\n",
       "      <td>0.001271</td>\n",
       "      <td>0.009464</td>\n",
       "      <td>0.003252</td>\n",
       "      <td>0.045076</td>\n",
       "      <td>0.003582</td>\n",
       "      <td>...</td>\n",
       "      <td>0.000689</td>\n",
       "      <td>0.003062</td>\n",
       "      <td>0.050031</td>\n",
       "      <td>0.009978</td>\n",
       "      <td>0.001080</td>\n",
       "      <td>0.001192</td>\n",
       "      <td>0.019241</td>\n",
       "      <td>0.011412</td>\n",
       "      <td>0.022592</td>\n",
       "      <td>0.005354</td>\n",
       "    </tr>\n",
       "    <tr>\n",
       "      <th>4</th>\n",
       "      <td>0.001189</td>\n",
       "      <td>0.002805</td>\n",
       "      <td>0.002039</td>\n",
       "      <td>0.013383</td>\n",
       "      <td>0.031471</td>\n",
       "      <td>0.000195</td>\n",
       "      <td>0.008913</td>\n",
       "      <td>0.010603</td>\n",
       "      <td>0.008727</td>\n",
       "      <td>0.011824</td>\n",
       "      <td>...</td>\n",
       "      <td>0.006642</td>\n",
       "      <td>0.004383</td>\n",
       "      <td>0.022619</td>\n",
       "      <td>0.064532</td>\n",
       "      <td>0.000942</td>\n",
       "      <td>0.002883</td>\n",
       "      <td>0.006130</td>\n",
       "      <td>0.016948</td>\n",
       "      <td>0.016660</td>\n",
       "      <td>0.011660</td>\n",
       "    </tr>\n",
       "  </tbody>\n",
       "</table>\n",
       "<p>4 rows × 75 columns</p>\n",
       "</div>"
      ],
      "text/plain": [
       "                 t1        t2        t3        t4        t5        t6  \\\n",
       "Trimester                                                               \n",
       "1          0.000537  0.006313  0.003940  0.000770  0.001027  0.000053   \n",
       "2          0.003028  0.002008  0.002052  0.003876  0.002915  0.000126   \n",
       "3          0.000673  0.008559  0.003405  0.003033  0.009466  0.001271   \n",
       "4          0.001189  0.002805  0.002039  0.013383  0.031471  0.000195   \n",
       "\n",
       "                 t7        t8        t9       t10  ...       t66       t67  \\\n",
       "Trimester                                          ...                       \n",
       "1          0.065367  0.004212  0.050059  0.007026  ...  0.004211  0.009580   \n",
       "2          0.042336  0.000899  0.080625  0.003075  ...  0.000937  0.002709   \n",
       "3          0.009464  0.003252  0.045076  0.003582  ...  0.000689  0.003062   \n",
       "4          0.008913  0.010603  0.008727  0.011824  ...  0.006642  0.004383   \n",
       "\n",
       "                t68       t69       t70       t71       t72       t73  \\\n",
       "Trimester                                                               \n",
       "1          0.017018  0.006358  0.003306  0.002064  0.053012  0.013988   \n",
       "2          0.097402  0.001086  0.002003  0.000950  0.069106  0.030864   \n",
       "3          0.050031  0.009978  0.001080  0.001192  0.019241  0.011412   \n",
       "4          0.022619  0.064532  0.000942  0.002883  0.006130  0.016948   \n",
       "\n",
       "                t74       t75  \n",
       "Trimester                      \n",
       "1          0.004941  0.008972  \n",
       "2          0.013265  0.007704  \n",
       "3          0.022592  0.005354  \n",
       "4          0.016660  0.011660  \n",
       "\n",
       "[4 rows x 75 columns]"
      ]
     },
     "execution_count": 53,
     "metadata": {},
     "output_type": "execute_result"
    }
   ],
   "source": [
    "TrimesterMeans = Trimester_Topics.groupby(\"Trimester\").mean()\n",
    "TrimesterMeans"
   ]
  },
  {
   "cell_type": "code",
   "execution_count": 54,
   "id": "9152fc3c",
   "metadata": {},
   "outputs": [
    {
     "data": {
      "text/plain": [
       "t7     0.065367\n",
       "t72    0.053012\n",
       "t9     0.050059\n",
       "t64    0.035391\n",
       "t18    0.029478\n",
       "Name: 1, dtype: float64"
      ]
     },
     "execution_count": 54,
     "metadata": {},
     "output_type": "execute_result"
    }
   ],
   "source": [
    "TrimesterMeans.loc[1].sort_values(ascending=False).head()"
   ]
  },
  {
   "cell_type": "code",
   "execution_count": 55,
   "id": "36b14806",
   "metadata": {},
   "outputs": [
    {
     "data": {
      "text/plain": [
       "t68    0.097402\n",
       "t9     0.080625\n",
       "t72    0.069106\n",
       "t7     0.042336\n",
       "t38    0.033160\n",
       "Name: 2, dtype: float64"
      ]
     },
     "execution_count": 55,
     "metadata": {},
     "output_type": "execute_result"
    }
   ],
   "source": [
    "TrimesterMeans.loc[2].sort_values(ascending=False).head()"
   ]
  },
  {
   "cell_type": "code",
   "execution_count": 56,
   "id": "b14f56fa",
   "metadata": {},
   "outputs": [
    {
     "data": {
      "text/plain": [
       "t68    0.050031\n",
       "t9     0.045076\n",
       "t65    0.033705\n",
       "t49    0.023850\n",
       "t55    0.023667\n",
       "Name: 3, dtype: float64"
      ]
     },
     "execution_count": 56,
     "metadata": {},
     "output_type": "execute_result"
    }
   ],
   "source": [
    "TrimesterMeans.loc[3].sort_values(ascending=False).head()"
   ]
  },
  {
   "cell_type": "code",
   "execution_count": 57,
   "id": "c349da71",
   "metadata": {},
   "outputs": [
    {
     "data": {
      "text/plain": [
       "t69    0.064532\n",
       "t57    0.038383\n",
       "t5     0.031471\n",
       "t55    0.027375\n",
       "t48    0.026642\n",
       "Name: 4, dtype: float64"
      ]
     },
     "execution_count": 57,
     "metadata": {},
     "output_type": "execute_result"
    }
   ],
   "source": [
    "TrimesterMeans.loc[4].sort_values(ascending=False).head()"
   ]
  },
  {
   "cell_type": "markdown",
   "id": "4a0b195a",
   "metadata": {},
   "source": [
    "#### Kendall's Tau Statistic "
   ]
  },
  {
   "cell_type": "code",
   "execution_count": 58,
   "id": "1df7e040",
   "metadata": {},
   "outputs": [
    {
     "name": "stdout",
     "output_type": "stream",
     "text": [
      "[('t7', -1.0), ('t11', -1.0), ('t13', -1.0), ('t70', -1.0), ('t3', -0.6666666666666669), ('t9', -0.6666666666666669), ('t12', -0.6666666666666669), ('t14', -0.6666666666666669)]\n",
      "[('t46', 0.6666666666666669), ('t54', 0.6666666666666669), ('t63', 0.6666666666666669), ('t69', 0.6666666666666669), ('t74', 0.6666666666666669), ('t5', 1.0), ('t15', 1.0), ('t55', 1.0)]\n"
     ]
    }
   ],
   "source": [
    "from operator import itemgetter\n",
    "from scipy.stats import kendalltau\n",
    "\n",
    "ranks = range(1, len(TrimesterMeans.index)+1)\n",
    "tau_scoresTrimester = []\n",
    "for col in [f't{i+1}' for i in range(TrimesterMeans.shape[1])]:\n",
    "    tau, p = kendalltau(ranks, TrimesterMeans[col].tolist())\n",
    "    tau_scoresTrimester.append((col, tau))\n",
    "    \n",
    "tau_scoresTrimester.sort(key=itemgetter(1))\n",
    "nb = 8\n",
    "top, bottom = tau_scoresTrimester[:nb], tau_scoresTrimester[-nb:]\n",
    "\n",
    "print(top)\n",
    "print(bottom)"
   ]
  },
  {
   "cell_type": "code",
   "execution_count": 59,
   "id": "423445a8",
   "metadata": {},
   "outputs": [
    {
     "data": {
      "text/plain": [
       "sensei          0.422947\n",
       "reception       0.281219\n",
       "ayanokouji      0.181468\n",
       "sakayanagi      0.154959\n",
       "permission      0.129358\n",
       "ceremony        0.121949\n",
       "enjoy           0.106486\n",
       "classroom       0.084756\n",
       "predict         0.084612\n",
       "finer           0.082019\n",
       "presume         0.079671\n",
       "imagining       0.077496\n",
       "seemingly       0.073693\n",
       "farewell        0.071909\n",
       "explanations    0.070299\n",
       "Name: Topic 72, dtype: float64"
      ]
     },
     "execution_count": 59,
     "metadata": {},
     "output_type": "execute_result"
    }
   ],
   "source": [
    "topic_word_distributions.loc['Topic 72'].sort_values(ascending=False).head(15)"
   ]
  },
  {
   "cell_type": "code",
   "execution_count": 60,
   "id": "711ea683",
   "metadata": {},
   "outputs": [
    {
     "data": {
      "text/plain": [
       "senpai        0.647144\n",
       "understood    0.191838\n",
       "detail        0.178461\n",
       "human         0.144203\n",
       "ayanokouji    0.122335\n",
       "eyebrows      0.111018\n",
       "convince      0.107846\n",
       "retreat       0.099709\n",
       "cooperate     0.095191\n",
       "muttered      0.095145\n",
       "wicked        0.093061\n",
       "reckless      0.089215\n",
       "pursue        0.089205\n",
       "hastily       0.085745\n",
       "regular       0.084124\n",
       "Name: Topic 69, dtype: float64"
      ]
     },
     "execution_count": 60,
     "metadata": {},
     "output_type": "execute_result"
    }
   ],
   "source": [
    "topic_word_distributions.loc['Topic 69'].sort_values(ascending=False).head(15)"
   ]
  },
  {
   "cell_type": "code",
   "execution_count": 61,
   "id": "a1b9e5ce",
   "metadata": {},
   "outputs": [
    {
     "data": {
      "text/plain": [
       "ryuuen       0.626831\n",
       "nagumo       0.341541\n",
       "council      0.226519\n",
       "older        0.207917\n",
       "points       0.139960\n",
       "million      0.121726\n",
       "strategy     0.110255\n",
       "snow         0.099881\n",
       "st           0.097218\n",
       "president    0.090041\n",
       "man          0.078369\n",
       "huh          0.076544\n",
       "amount       0.071640\n",
       "expelled     0.070903\n",
       "nd           0.066194\n",
       "Name: Topic 68, dtype: float64"
      ]
     },
     "execution_count": 61,
     "metadata": {},
     "output_type": "execute_result"
    }
   ],
   "source": [
    "topic_word_distributions.loc['Topic 68'].sort_values(ascending=False).head(15)"
   ]
  },
  {
   "cell_type": "code",
   "execution_count": 62,
   "id": "f7fc6c04",
   "metadata": {},
   "outputs": [
    {
     "data": {
      "text/plain": [
       "sakayanagi    0.374329\n",
       "ichinose      0.254610\n",
       "ryuuen        0.226979\n",
       "watch         0.143718\n",
       "theater       0.121619\n",
       "huh           0.090952\n",
       "ayanokouji    0.088712\n",
       "gaze          0.083459\n",
       "opponent      0.074181\n",
       "simply        0.070854\n",
       "seat          0.068460\n",
       "leaving       0.065892\n",
       "screen        0.062911\n",
       "problem       0.060162\n",
       "abilities     0.056737\n",
       "Name: Topic 65, dtype: float64"
      ]
     },
     "execution_count": 62,
     "metadata": {},
     "output_type": "execute_result"
    }
   ],
   "source": [
    "topic_word_distributions.loc['Topic 65'].sort_values(ascending=False).head(15)"
   ]
  },
  {
   "cell_type": "code",
   "execution_count": 63,
   "id": "ea0d37f4",
   "metadata": {},
   "outputs": [
    {
     "data": {
      "text/plain": [
       "changing     0.393696\n",
       "ike          0.383103\n",
       "car          0.281749\n",
       "peeping      0.241580\n",
       "pool         0.200283\n",
       "sudou        0.199398\n",
       "ichinose     0.197683\n",
       "kushida      0.190512\n",
       "vent         0.165735\n",
       "karuizawa    0.159759\n",
       "crime        0.138881\n",
       "yamauchi     0.138219\n",
       "installed    0.110148\n",
       "peep         0.104485\n",
       "guys         0.098081\n",
       "Name: Topic 64, dtype: float64"
      ]
     },
     "execution_count": 63,
     "metadata": {},
     "output_type": "execute_result"
    }
   ],
   "source": [
    "topic_word_distributions.loc['Topic 64'].sort_values(ascending=False).head(15)"
   ]
  },
  {
   "cell_type": "code",
   "execution_count": 64,
   "id": "594e86b3",
   "metadata": {},
   "outputs": [
    {
     "data": {
      "text/plain": [
       "senpai        0.427348\n",
       "ayanokouji    0.241778\n",
       "answering     0.192530\n",
       "partners      0.162043\n",
       "okay          0.157907\n",
       "shall         0.156558\n",
       "partner       0.141944\n",
       "expecting     0.124084\n",
       "unknown       0.121923\n",
       "suggested     0.119878\n",
       "anyway        0.114112\n",
       "suppose       0.107579\n",
       "thoughts      0.101397\n",
       "directly      0.098717\n",
       "notice        0.098436\n",
       "Name: Topic 57, dtype: float64"
      ]
     },
     "execution_count": 64,
     "metadata": {},
     "output_type": "execute_result"
    }
   ],
   "source": [
    "topic_word_distributions.loc['Topic 57'].sort_values(ascending=False).head(15)"
   ]
  },
  {
   "cell_type": "code",
   "execution_count": 65,
   "id": "34d252a9",
   "metadata": {},
   "outputs": [
    {
     "data": {
      "text/plain": [
       "council         0.737560\n",
       "nagumo          0.309056\n",
       "brother         0.245137\n",
       "join            0.242707\n",
       "president       0.209535\n",
       "suzune          0.183443\n",
       "realised        0.170076\n",
       "enter           0.166495\n",
       "surely          0.162056\n",
       "acknowledge     0.158460\n",
       "ayanokouji      0.145930\n",
       "waved           0.145680\n",
       "disappointed    0.130416\n",
       "relationship    0.125650\n",
       "task            0.123064\n",
       "Name: Topic 55, dtype: float64"
      ]
     },
     "execution_count": 65,
     "metadata": {},
     "output_type": "execute_result"
    }
   ],
   "source": [
    "topic_word_distributions.loc['Topic 55'].sort_values(ascending=False).head(15)"
   ]
  },
  {
   "cell_type": "code",
   "execution_count": 66,
   "id": "d69577df",
   "metadata": {},
   "outputs": [
    {
     "data": {
      "text/plain": [
       "ayanokouji     0.435942\n",
       "boy            0.331387\n",
       "amazing        0.287994\n",
       "cup            0.262305\n",
       "formidable     0.201646\n",
       "festival       0.184567\n",
       "hirata         0.177616\n",
       "chocolate      0.175775\n",
       "furthermore    0.171308\n",
       "cautious       0.164145\n",
       "midnight       0.163835\n",
       "inevitable     0.163601\n",
       "crept          0.157210\n",
       "staying        0.154016\n",
       "hmm            0.151404\n",
       "Name: Topic 49, dtype: float64"
      ]
     },
     "execution_count": 66,
     "metadata": {},
     "output_type": "execute_result"
    }
   ],
   "source": [
    "topic_word_distributions.loc['Topic 49'].sort_values(ascending=False).head(15)"
   ]
  },
  {
   "cell_type": "code",
   "execution_count": 67,
   "id": "b480d1c5",
   "metadata": {},
   "outputs": [
    {
     "data": {
      "text/plain": [
       "senpai        0.502482\n",
       "climbing      0.443314\n",
       "catch         0.217022\n",
       "definitely    0.198514\n",
       "ayanokouji    0.190241\n",
       "accord        0.177800\n",
       "fearing       0.172471\n",
       "amounted      0.172452\n",
       "obstacle      0.172413\n",
       "rocky         0.167553\n",
       "conviction    0.162993\n",
       "forcibly      0.162972\n",
       "belief        0.162953\n",
       "wasting       0.158806\n",
       "worries       0.158743\n",
       "Name: Topic 48, dtype: float64"
      ]
     },
     "execution_count": 67,
     "metadata": {},
     "output_type": "execute_result"
    }
   ],
   "source": [
    "topic_word_distributions.loc['Topic 48'].sort_values(ascending=False).head(15)"
   ]
  },
  {
   "cell_type": "code",
   "execution_count": 68,
   "id": "66c7f9e3",
   "metadata": {},
   "outputs": [
    {
     "data": {
      "text/plain": [
       "months         0.590836\n",
       "importantly    0.454764\n",
       "reliable       0.454320\n",
       "kinugasa       0.440382\n",
       "refrain        0.428050\n",
       "initial        0.428038\n",
       "festival       0.416791\n",
       "readers        0.416429\n",
       "sincerely      0.395795\n",
       "acts           0.395717\n",
       "staff          0.395686\n",
       "variety        0.386247\n",
       "furthermore    0.386240\n",
       "hello          0.378083\n",
       "chatting       0.377627\n",
       "Name: Topic 38, dtype: float64"
      ]
     },
     "execution_count": 68,
     "metadata": {},
     "output_type": "execute_result"
    }
   ],
   "source": [
    "topic_word_distributions.loc['Topic 38'].sort_values(ascending=False).head(15)"
   ]
  },
  {
   "cell_type": "code",
   "execution_count": 69,
   "id": "7ae86426",
   "metadata": {},
   "outputs": [
    {
     "data": {
      "text/plain": [
       "hair          1.108383\n",
       "image         0.659690\n",
       "kushida       0.542987\n",
       "sudou         0.379096\n",
       "love          0.342598\n",
       "resolution    0.322824\n",
       "cutting       0.309477\n",
       "weird         0.281402\n",
       "yeah          0.254350\n",
       "surprise      0.235170\n",
       "shall         0.228376\n",
       "short         0.215272\n",
       "classroom     0.198651\n",
       "stroked       0.198509\n",
       "suzune        0.192764\n",
       "Name: Topic 18, dtype: float64"
      ]
     },
     "execution_count": 69,
     "metadata": {},
     "output_type": "execute_result"
    }
   ],
   "source": [
    "topic_word_distributions.loc['Topic 18'].sort_values(ascending=False).head(15)"
   ]
  },
  {
   "cell_type": "code",
   "execution_count": 70,
   "id": "868f9424",
   "metadata": {},
   "outputs": [
    {
     "data": {
      "text/plain": [
       "karuizawa    1.059085\n",
       "nagumo       0.627889\n",
       "hirata       0.570393\n",
       "date         0.223908\n",
       "president    0.217155\n",
       "council      0.152637\n",
       "double       0.149445\n",
       "christmas    0.129828\n",
       "senpai       0.125963\n",
       "st           0.115247\n",
       "ahh          0.086127\n",
       "phone        0.085812\n",
       "vice         0.083011\n",
       "type         0.079350\n",
       "umm          0.079164\n",
       "Name: Topic 9, dtype: float64"
      ]
     },
     "execution_count": 70,
     "metadata": {},
     "output_type": "execute_result"
    }
   ],
   "source": [
    "topic_word_distributions.loc['Topic 9'].sort_values(ascending=False).head(15)"
   ]
  },
  {
   "cell_type": "code",
   "execution_count": 71,
   "id": "e65df0e7",
   "metadata": {},
   "outputs": [
    {
     "data": {
      "text/plain": [
       "sudou        1.991210\n",
       "ike          1.404267\n",
       "yamauchi     0.757194\n",
       "council      0.648673\n",
       "birthday     0.644260\n",
       "kushida      0.642800\n",
       "pool         0.450676\n",
       "present      0.448025\n",
       "points       0.437647\n",
       "president    0.400564\n",
       "summer       0.262305\n",
       "uniform      0.243717\n",
       "shop         0.241568\n",
       "ichinose     0.233081\n",
       "ball         0.228335\n",
       "Name: Topic 7, dtype: float64"
      ]
     },
     "execution_count": 71,
     "metadata": {},
     "output_type": "execute_result"
    }
   ],
   "source": [
    "topic_word_distributions.loc['Topic 7'].sort_values(ascending=False).head(15)"
   ]
  },
  {
   "cell_type": "code",
   "execution_count": 72,
   "id": "cc5059ec",
   "metadata": {},
   "outputs": [
    {
     "data": {
      "text/plain": [
       "senpai        1.421957\n",
       "ayanokouji    0.357505\n",
       "beach         0.332781\n",
       "win           0.304505\n",
       "flag          0.286037\n",
       "wash          0.257122\n",
       "miss          0.235771\n",
       "staring       0.233885\n",
       "water         0.213904\n",
       "victory       0.211995\n",
       "final         0.205127\n",
       "power         0.194447\n",
       "exam          0.187749\n",
       "thank         0.185584\n",
       "sound         0.180481\n",
       "Name: Topic 5, dtype: float64"
      ]
     },
     "execution_count": 72,
     "metadata": {},
     "output_type": "execute_result"
    }
   ],
   "source": [
    "topic_word_distributions.loc['Topic 5'].sort_values(ascending=False).head(15)"
   ]
  },
  {
   "cell_type": "code",
   "execution_count": 86,
   "id": "430f0b82",
   "metadata": {},
   "outputs": [
    {
     "data": {
      "image/png": "[encoded data removed]",
      "text/plain": [
       "<Figure size 1080x720 with 1 Axes>"
      ]
     },
     "metadata": {
      "needs_background": "light"
     },
     "output_type": "display_data"
    }
   ],
   "source": [
    "import matplotlib.pyplot as plt\n",
    "fig, ax = plt.subplots(figsize=(15, 10))\n",
    "im = ax.imshow(TrimesterMeans.values)\n",
    "\n",
    "ax.set_xticks(np.arange(len(TrimesterMeans.columns)))\n",
    "ax.set_yticks(np.arange(len(TrimesterMeans.index)))\n",
    "\n",
    "ax.set_xticklabels(TrimesterMeans.columns)\n",
    "ax.set_yticklabels(TrimesterMeans.index)\n",
    "\n",
    "plt.setp(ax.get_xticklabels(), rotation=90, ha=\"right\",\n",
    "         rotation_mode=\"anchor\")\n",
    "\n",
    "ax.set_title(\"Mean Topic Scores per Trimester\")\n",
    "fig.tight_layout()\n",
    "plt.show()"
   ]
  },
  {
   "attachments": {
    "ImShowLegend.png": {
     "image/png": "[encoded data removed]"
    }
   },
   "cell_type": "markdown",
   "id": "68bd3fe7",
   "metadata": {},
   "source": [
    "![ImShowLegend.png](attachment:ImShowLegend.png)"
   ]
  }
 ],
 "metadata": {
  "kernelspec": {
   "display_name": "Python 3 (ipykernel)",
   "language": "python",
   "name": "python3"
  },
  "language_info": {
   "codemirror_mode": {
    "name": "ipython",
    "version": 3
   },
   "file_extension": ".py",
   "mimetype": "text/x-python",
   "name": "python",
   "nbconvert_exporter": "python",
   "pygments_lexer": "ipython3",
   "version": "3.9.12"
  }
 },
 "nbformat": 4,
 "nbformat_minor": 5
}
